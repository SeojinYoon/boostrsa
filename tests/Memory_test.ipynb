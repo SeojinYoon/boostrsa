{
 "cells": [
  {
   "cell_type": "markdown",
   "id": "97507c90-3089-421d-9a97-4430d284f8e2",
   "metadata": {},
   "source": [
    "# Common Libraries"
   ]
  },
  {
   "cell_type": "code",
   "execution_count": 1,
   "id": "e2510765-6b2a-4649-ac41-f8d868bbb685",
   "metadata": {},
   "outputs": [],
   "source": [
    "import os\n",
    "os.environ[\"CUDA_HOME\"] = \"/usr/local/cuda-12.6\" # for linux\n",
    "\n",
    "import pickle\n",
    "import numpy as np\n",
    "import cupy as cp\n",
    "import nibabel as nb\n",
    "from glob import glob\n",
    "from tqdm import trange\n",
    "from numba import cuda\n",
    "cuda.select_device(0)\n",
    "\n",
    "from rsatoolbox.util.searchlight import get_volume_searchlight\n",
    "#from nltools.data import Brain_Data\n",
    "from collections import Counter\n",
    "from itertools import combinations"
   ]
  },
  {
   "cell_type": "code",
   "execution_count": 2,
   "id": "39754521-68dc-4a1e-8a0b-df9cd140373d",
   "metadata": {},
   "outputs": [],
   "source": [
    "from boostrsa.boostrsa_types import ShrinkageMethod\n",
    "from boostrsa.cores.gpu.basic_operations import outer_sum_square, outer_sum"
   ]
  },
  {
   "cell_type": "code",
   "execution_count": 3,
   "id": "83ffc03f-7593-4bfc-8d77-35bf52d2c628",
   "metadata": {},
   "outputs": [],
   "source": [
    "import sys\n",
    "sys.path.append(\"/home/seojin/boostrsa/src/boostrsa/cores/cpgpu\")\n",
    "\n",
    "from stats import _covariance_diag"
   ]
  },
  {
   "cell_type": "code",
   "execution_count": 4,
   "id": "dbe72e57-545f-450f-9c5a-c1952e63c9cd",
   "metadata": {},
   "outputs": [],
   "source": [
    "import sys\n",
    "sys.path.append(\"/home/seojin/boostrsa/src/boostrsa/cores/cpu\")\n",
    "from mask import set_mask"
   ]
  },
  {
   "cell_type": "code",
   "execution_count": 5,
   "id": "ff3e8bd0-1e2a-45c5-bb9b-9d8dbeab8480",
   "metadata": {},
   "outputs": [],
   "source": [
    "import sys\n",
    "sys.path.append(\"/home/seojin/Seojin_commonTool/Module\")\n",
    "\n",
    "from memory_management import convert_byte"
   ]
  },
  {
   "cell_type": "markdown",
   "id": "1a9313e3-f8f2-4672-bbc5-c895ecf4c692",
   "metadata": {},
   "source": [
    "# Params"
   ]
  },
  {
   "cell_type": "code",
   "execution_count": 6,
   "id": "a9057d7f-8f22-4296-a594-4837155ee308",
   "metadata": {},
   "outputs": [],
   "source": [
    "subj_name = \"DO01\"\n",
    "is_update_data = False\n",
    "\n",
    "# Searchlight\n",
    "radius = 3\n",
    "threshold = 1\n",
    "\n",
    "# Task params\n",
    "n_split_data = 2048\n",
    "n_thread_per_block = 1024\n",
    "shrinkage_method = ShrinkageMethod.shrinkage_diag\n",
    "n_block = int(np.ceil(n_split_data / n_thread_per_block))"
   ]
  },
  {
   "cell_type": "markdown",
   "id": "9d32a989-1394-463c-8e58-9ede35165547",
   "metadata": {},
   "source": [
    "# Constants"
   ]
  },
  {
   "cell_type": "code",
   "execution_count": 7,
   "id": "09adcd1d-9086-424c-bbd4-36acef3df4b3",
   "metadata": {},
   "outputs": [],
   "source": [
    "data_dir_path = f\"/mnt/ext3/hanul/DO/stats/beta/{subj_name}/green_time\"\n",
    "full_mask_path = f\"/mnt/ext3/hanul/DO/fMRI_data/proc_data/{subj_name}/full_mask.DO01.nii\"\n",
    "temp_dir_path = \"/mnt/ext1/seojin/temp/test\""
   ]
  },
  {
   "cell_type": "code",
   "execution_count": 8,
   "id": "98f99158-30ed-43d1-a298-e3e0af793f56",
   "metadata": {},
   "outputs": [],
   "source": [
    "beta_paths = sorted(glob(os.path.join(data_dir_path, f\"{subj_name}_beta_all_r*.nii\")))\n",
    "condition_paths = sorted(glob(os.path.join(data_dir_path, f\"{subj_name}_conditions_r*.npy\")))\n",
    "residual_paths = sorted(glob(os.path.join(data_dir_path, f\"{subj_name}_residual_r*.nii\")))"
   ]
  },
  {
   "cell_type": "code",
   "execution_count": 9,
   "id": "9a6ca9ec-c391-4d01-bce4-c5dff701ea9c",
   "metadata": {},
   "outputs": [],
   "source": [
    "if is_update_data:\n",
    "    mask = nb.load(full_mask_path)\n",
    "    betas = [Brain_Data(path, mask = mask) for path in beta_paths]\n",
    "    conditions = [np.load(path, allow_pickle=True) for path in condition_paths]\n",
    "    residuals = [Brain_Data(path, mask = mask) for path in residual_paths]\n",
    "\n",
    "    for i, beta in enumerate(betas):\n",
    "        np.save(os.path.join(temp_dir_path, f\"beta_r{i+1}.npy\"), beta.data)\n",
    "    \n",
    "    for i, residual in enumerate(residuals):\n",
    "        np.save(os.path.join(temp_dir_path, f\"residual_r{i+1}.npy\"), residual.data)\n",
    "    \n",
    "    for i, condition in enumerate(conditions):\n",
    "        np.save(os.path.join(temp_dir_path, f\"condition_r{i+1}.npy\"), condition)\n",
    "else:\n",
    "    betas = [np.load(f\"/mnt/ext1/seojin/temp/test/beta_r{i+1}.npy\", allow_pickle = True) for i in range(0, 1)]\n",
    "    conditions = [np.load(f\"/mnt/ext1/seojin/temp/test/condition_r{i+1}.npy\", allow_pickle = True) for i in range(0, 1)]\n",
    "    residuals = [np.load(f\"/mnt/ext1/seojin/temp/test/residual_r{i+1}.npy\", allow_pickle = True) for i in range(0, 1)]"
   ]
  },
  {
   "cell_type": "markdown",
   "id": "4fa125a0-0e6e-499d-a10e-e77431d5c0c9",
   "metadata": {},
   "source": [
    "# Test - GPU masking"
   ]
  },
  {
   "cell_type": "code",
   "execution_count": 10,
   "id": "4acc8e01-3593-4710-9118-72486b9428b0",
   "metadata": {},
   "outputs": [
    {
     "data": {
      "text/plain": [
       "'i = 0\\nn_channel = len(mask_1d_indexes)\\nn_block = int(np.ceil(n_split_data / n_thread_per_block))\\n\\ntarget_neighbors_ = target_neighbors[i:i + n_split_data, :]\\nn_neighbor = target_neighbors.shape[1]\\n\\nn_target_center = len(target_neighbors_)\\nmask_out = cuda.to_device(np.zeros((n_target_center, n_channel)))\\nset_mask[n_block, n_thread_per_block](target_neighbors_, mask_1d_indexes, mask_out)\\nmemory_usage = memory(mask_out.nbytes, \"GB\")\\nprint(f\"{memory_usage}GB\")'"
      ]
     },
     "execution_count": 10,
     "metadata": {},
     "output_type": "execute_result"
    }
   ],
   "source": [
    "\"\"\"i = 0\n",
    "n_channel = len(mask_1d_indexes)\n",
    "n_block = int(np.ceil(n_split_data / n_thread_per_block))\n",
    "\n",
    "target_neighbors_ = target_neighbors[i:i + n_split_data, :]\n",
    "n_neighbor = target_neighbors.shape[1]\n",
    "\n",
    "n_target_center = len(target_neighbors_)\n",
    "mask_out = cuda.to_device(np.zeros((n_target_center, n_channel)))\n",
    "set_mask[n_block, n_thread_per_block](target_neighbors_, mask_1d_indexes, mask_out)\n",
    "memory_usage = memory(mask_out.nbytes, \"GB\")\n",
    "print(f\"{memory_usage}GB\")\"\"\""
   ]
  },
  {
   "cell_type": "markdown",
   "id": "69a8052b-fac1-41b1-a326-a9803598fe34",
   "metadata": {},
   "source": [
    "# Data configuration"
   ]
  },
  {
   "cell_type": "code",
   "execution_count": 11,
   "id": "bf2d4541-fd11-4266-b949-68d260a9e7b2",
   "metadata": {},
   "outputs": [],
   "source": [
    "is_update_neighbors = False"
   ]
  },
  {
   "cell_type": "code",
   "execution_count": 12,
   "id": "4d9eea81-2c27-4fcc-82b6-fa374e2ee5e6",
   "metadata": {},
   "outputs": [],
   "source": [
    "# Mask\n",
    "mask = nb.load(full_mask_path)\n",
    "nx, ny, nz = mask.get_fdata().shape\n",
    "mask_3d_indexes = np.array(np.where(mask.get_fdata() == 1))\n",
    "mask_1d_indexes = np.ravel_multi_index(mask_3d_indexes, (nx, ny, nz))\n",
    "\n",
    "# Neighbors\n",
    "if is_update_neighbors:\n",
    "    centers, neighbors = get_volume_searchlight(mask.get_fdata(), \n",
    "                                                radius=radius, \n",
    "                                                threshold=threshold)\n",
    "    np.save(os.path.join(temp_dir_path, \"centers.npy\"), centers)\n",
    "    with open(os.path.join(temp_dir_path, \"neighbors\"),\"wb\") as f:\n",
    "        pickle.dump(neighbors, f)\n",
    "else:\n",
    "    centers = np.load(os.path.join(temp_dir_path, \"centers.npy\"))\n",
    "    with open(os.path.join(temp_dir_path, \"neighbors\"),\"rb\") as f:\n",
    "        neighbors = pickle.load(f)\n",
    "    \n",
    "n_neighbors = np.array([len(e) for e in neighbors])\n",
    "uq_n_neighbors = np.unique([len(e) for e in neighbors])\n",
    "\n",
    "flags = (n_neighbors == Counter(n_neighbors).most_common()[0][0])\n",
    "centers = centers[flags]\n",
    "neighbors = [e for e, f in zip(neighbors, flags) if f]\n",
    "neighbors = np.array(neighbors)\n",
    "n_neighbor = neighbors.shape[-1]"
   ]
  },
  {
   "cell_type": "code",
   "execution_count": 13,
   "id": "5c6b0b5c-183c-4278-a8b7-79946cdecb07",
   "metadata": {},
   "outputs": [],
   "source": [
    "sim_run = 12\n",
    "\n",
    "# Betas\n",
    "beta = []\n",
    "for i in range(1, sim_run):\n",
    "    beta.append(betas[0])\n",
    "beta = np.concatenate(beta)\n",
    "\n",
    "# Condition\n",
    "condition = []\n",
    "for i in range(1, sim_run):\n",
    "    condition.append(conditions[0])\n",
    "condition = np.concatenate(condition)\n",
    "\n",
    "# Residuals\n",
    "residual = np.expand_dims(residuals[0], axis = 0)\n",
    "for i in range(1, sim_run):\n",
    "    residual = np.r_[residual, np.expand_dims(residuals[0], axis = 0)]\n",
    "\n",
    "n_run, n_point, n_channel = residual.shape\n",
    "n_cond = beta.shape[0]\n",
    "\n",
    "# Sessions\n",
    "sessions = np.concatenate([np.repeat(run_number, condition.shape[0] / n_run) for run_number in range(1, n_run + 1)])\n",
    "uq_sessions = np.unique(sessions)"
   ]
  },
  {
   "cell_type": "code",
   "execution_count": 14,
   "id": "963bf7b7-3e9f-45ce-a7ab-60a3f648a776",
   "metadata": {},
   "outputs": [],
   "source": [
    "dtype = np.float32"
   ]
  },
  {
   "cell_type": "code",
   "execution_count": 15,
   "id": "5ddd1c96-5eff-44bb-a1ea-6216a5fff4fc",
   "metadata": {},
   "outputs": [],
   "source": [
    "residual = residual.astype(dtype)\n",
    "beta = beta.astype(dtype)"
   ]
  },
  {
   "cell_type": "code",
   "execution_count": 16,
   "id": "bce4a92c-9459-427b-ad2e-9e8018117ba7",
   "metadata": {},
   "outputs": [],
   "source": [
    "fold_info = list(combinations(np.arange(len(uq_sessions)), 2))\n",
    "n_fold = len(fold_info)"
   ]
  },
  {
   "cell_type": "markdown",
   "id": "952fb224-f459-4727-a351-2abf5456df2d",
   "metadata": {},
   "source": [
    "# Split mask"
   ]
  },
  {
   "cell_type": "code",
   "execution_count": 17,
   "id": "6dd4b074-0781-4ca8-83b3-5fa79ac58b4d",
   "metadata": {},
   "outputs": [],
   "source": [
    "target_centers = centers[:n_split_data]\n",
    "target_neighbors = neighbors[:n_split_data]\n",
    "split_mask = set_mask(target_neighbors, mask_1d_indexes)"
   ]
  },
  {
   "cell_type": "markdown",
   "id": "1f4cd1e8-eebb-4fa0-a769-e4a046d6feee",
   "metadata": {},
   "source": [
    "# Masked"
   ]
  },
  {
   "cell_type": "code",
   "execution_count": 18,
   "id": "26474166-0122-4dda-8e29-852f3a584bed",
   "metadata": {},
   "outputs": [],
   "source": [
    "masked_measurements = np.empty((n_split_data, n_cond, n_neighbor), dtype = beta.dtype)\n",
    "for j, m in enumerate(split_mask):\n",
    "    masked_measurements[j] = beta[:, m == 1]\n",
    "masked_measurements = cp.asarray(masked_measurements)"
   ]
  },
  {
   "cell_type": "code",
   "execution_count": 19,
   "id": "4ec25832-ae76-4671-82bd-e8f32b7b9f91",
   "metadata": {},
   "outputs": [],
   "source": [
    "masked_residuals = np.empty((n_split_data, n_run, n_point, n_neighbor),\n",
    "                            dtype=residual.dtype)\n",
    "for i, m in enumerate(split_mask):\n",
    "    masked_residuals[i] = residual[:, :, m == 1]"
   ]
  },
  {
   "cell_type": "markdown",
   "id": "6c7bde5d-7697-425e-a9a2-25422c958648",
   "metadata": {},
   "source": [
    "# Preprocessing"
   ]
  },
  {
   "cell_type": "code",
   "execution_count": 54,
   "id": "72d68055-e10a-4ab4-a6b6-1ec3d95e095c",
   "metadata": {},
   "outputs": [],
   "source": [
    "# Calculate demean\n",
    "target_residuals = masked_residuals.reshape(-1, n_point, n_neighbor)\n",
    "mean_residuals = np.mean(target_residuals, axis = 1, keepdims=1)\n",
    "target_residuals = (target_residuals - mean_residuals)"
   ]
  },
  {
   "cell_type": "markdown",
   "id": "1b78426b-2b0f-493c-b5a2-a3822aea4af3",
   "metadata": {},
   "source": [
    "# Covariance"
   ]
  },
  {
   "cell_type": "code",
   "execution_count": 55,
   "id": "99dd0f0a-2571-4f2b-8523-bd573d68002e",
   "metadata": {},
   "outputs": [],
   "source": [
    "n_processing_unit = target_residuals.shape[0]"
   ]
  },
  {
   "cell_type": "code",
   "execution_count": 57,
   "id": "1e7e50c2-93e2-4d3d-a8a7-8644fb55f070",
   "metadata": {},
   "outputs": [
    {
     "name": "stdout",
     "output_type": "stream",
     "text": [
      "0.3959197998046875 GB\n"
     ]
    },
    {
     "name": "stderr",
     "output_type": "stream",
     "text": [
      "/home/seojin/anaconda3/envs/boostrsa/lib/python3.9/site-packages/numba/cuda/dispatcher.py:538: NumbaPerformanceWarning: Grid size 2 will likely result in GPU under-utilization due to low occupancy.\n",
      "  warn(NumbaPerformanceWarning(msg))\n",
      "/home/seojin/anaconda3/envs/boostrsa/lib/python3.9/site-packages/numba/cuda/cudadrv/devicearray.py:886: NumbaPerformanceWarning: Host array used in CUDA kernel will incur copy overhead to/from device.\n",
      "  warn(NumbaPerformanceWarning(msg))\n"
     ]
    }
   ],
   "source": [
    "out_sum_device = cuda.to_device(np.zeros((n_processing_unit, n_neighbor, n_neighbor), dtype = dtype))\n",
    "print(convert_byte(out_sum_device.nbytes, \"GB\"), \"GB\")\n",
    "\n",
    "outer_sum[n_block, n_thread_per_block](target_residuals, out_sum_device)\n",
    "outer_sum_result = out_sum_device.copy_to_host()\n",
    "del out_sum_device"
   ]
  },
  {
   "cell_type": "code",
   "execution_count": 87,
   "id": "d7a3135e-5b0e-4b39-8667-fefb1928b706",
   "metadata": {},
   "outputs": [
    {
     "name": "stdout",
     "output_type": "stream",
     "text": [
      "0.791839599609375 GB\n"
     ]
    },
    {
     "name": "stderr",
     "output_type": "stream",
     "text": [
      "/home/seojin/anaconda3/envs/boostrsa/lib/python3.9/site-packages/numba/cuda/cudadrv/devicearray.py:886: NumbaPerformanceWarning: Host array used in CUDA kernel will incur copy overhead to/from device.\n",
      "  warn(NumbaPerformanceWarning(msg))\n"
     ]
    }
   ],
   "source": [
    "out_sum_square_device = cuda.to_device(np.zeros((n_processing_unit, n_neighbor, n_neighbor), dtype = dtype))\n",
    "print(convert_byte(out_sum_square_device.nbytes, \"GB\"), \"GB\")\n",
    "\n",
    "outer_sum_square[n_block, n_thread_per_block](target_residuals, out_sum_square_device)\n",
    "outer_sum_square_result = out_sum_square_device.copy_to_host()\n",
    "del out_sum_square_device"
   ]
  },
  {
   "cell_type": "code",
   "execution_count": 27,
   "id": "d60b219f-233d-446b-8033-9ebdafbaf6d9",
   "metadata": {},
   "outputs": [],
   "source": [
    "s = outer_sum_result / n_point\n",
    "s2 = outer_sum_square_result / n_point\n",
    "b2 = np.sum(s2 - s * s, axis = (1, 2)) / n_point"
   ]
  },
  {
   "cell_type": "code",
   "execution_count": 28,
   "id": "0bdd0e46-f873-48ae-958a-5e2f9e1adad3",
   "metadata": {},
   "outputs": [],
   "source": [
    "repeat_eyes = np.repeat(np.eye(n_neighbor)[:, :, np.newaxis], n_processing_unit, axis = 2).T"
   ]
  },
  {
   "cell_type": "code",
   "execution_count": 29,
   "id": "e3746271-fc46-433b-93a1-6846e253da13",
   "metadata": {},
   "outputs": [],
   "source": [
    "diag_s = np.diagonal(s, axis1 = 1, axis2 = 2)\n",
    "m = (np.sum(diag_s, axis = 1) / n_neighbor)\n",
    "d2 = np.sum((s - m[:, None, None] * repeat_eyes) ** 2, axis = (1, 2))"
   ]
  },
  {
   "cell_type": "code",
   "execution_count": 30,
   "id": "c8904c48-2916-4fa0-a771-f52b91fe845e",
   "metadata": {},
   "outputs": [],
   "source": [
    "b2 = np.minimum(d2, b2)"
   ]
  },
  {
   "cell_type": "code",
   "execution_count": 31,
   "id": "8df743dd-726f-4ac1-929d-7ea8c6a3c921",
   "metadata": {},
   "outputs": [
    {
     "name": "stderr",
     "output_type": "stream",
     "text": [
      "/tmp/ipykernel_2353319/1731073590.py:1: RuntimeWarning: invalid value encountered in divide\n",
      "  s_shrink = (b2 / d2 * m)[:, None, None] * repeat_eyes + ((d2-b2) / d2)[:, None, None] * s\n"
     ]
    }
   ],
   "source": [
    "s_shrink = (b2 / d2 * m)[:, None, None] * repeat_eyes + ((d2-b2) / d2)[:, None, None] * s"
   ]
  },
  {
   "cell_type": "code",
   "execution_count": 32,
   "id": "fe5ebc98-f200-41ec-a27e-a6c324f88459",
   "metadata": {},
   "outputs": [],
   "source": [
    "dof = n_point - 1\n",
    "s_shrink = s_shrink * n_point / dof"
   ]
  },
  {
   "cell_type": "code",
   "execution_count": 34,
   "id": "7504560e-2d4d-4ad8-b0bc-dece9e77312c",
   "metadata": {},
   "outputs": [],
   "source": [
    "precisions = cp.linalg.inv(cp.asarray(s_shrink)).get()"
   ]
  },
  {
   "cell_type": "code",
   "execution_count": 35,
   "id": "95455a2c-71ad-486a-8751-5575069ce83b",
   "metadata": {},
   "outputs": [],
   "source": [
    "r, c = np.triu_indices(n_neighbor, k = 0)"
   ]
  },
  {
   "cell_type": "code",
   "execution_count": 39,
   "id": "3ac7958c-09c9-4e63-858d-c3ac84b71378",
   "metadata": {},
   "outputs": [],
   "source": [
    "precisions = precisions[ :, r, c]"
   ]
  },
  {
   "cell_type": "code",
   "execution_count": 40,
   "id": "281b70e2-a5d8-439c-9d28-514df7e2db9f",
   "metadata": {},
   "outputs": [],
   "source": [
    "mempool = cp.get_default_memory_pool()\n",
    "mempool.free_all_blocks()"
   ]
  },
  {
   "cell_type": "code",
   "execution_count": 90,
   "id": "db275053-c1da-4f0e-8955-c7a1ccc73e7d",
   "metadata": {},
   "outputs": [],
   "source": [
    "np.save(os.path.join(temp_dir_path, \"precision.npy\"), precisions)"
   ]
  },
  {
   "cell_type": "markdown",
   "id": "f45bf93b-3e08-43f1-bbf8-ffd83ff74f0f",
   "metadata": {},
   "source": [
    "# Fold precision"
   ]
  },
  {
   "cell_type": "code",
   "execution_count": 131,
   "id": "fc2c16d0-3b9a-49b1-8b00-43e758cbf557",
   "metadata": {},
   "outputs": [],
   "source": [
    "dtype = np.float32"
   ]
  },
  {
   "cell_type": "code",
   "execution_count": 162,
   "id": "b84ffeeb-fc23-4793-82fc-153a5eb6ffa6",
   "metadata": {},
   "outputs": [],
   "source": [
    "precisions = np.load(os.path.join(temp_dir_path, \"precision.npy\"))\n",
    "precisions = precisions.astype(dtype)"
   ]
  },
  {
   "cell_type": "code",
   "execution_count": 134,
   "id": "6fca5e85-6a69-457b-8de0-b85941b30ed4",
   "metadata": {},
   "outputs": [],
   "source": [
    "from boostrsa.cores.cpu.matrix import convert_1d_to_symmertic, mean_fold_variance"
   ]
  },
  {
   "cell_type": "code",
   "execution_count": 149,
   "id": "11dcfe28-b5dd-4189-bf70-7a6b6e0dad95",
   "metadata": {},
   "outputs": [
    {
     "data": {
      "text/plain": [
       "cupy.ndarray"
      ]
     },
     "execution_count": 149,
     "metadata": {},
     "output_type": "execute_result"
    }
   ],
   "source": [
    "type(cp.asarray(precisions))"
   ]
  },
  {
   "cell_type": "code",
   "execution_count": 161,
   "id": "cbf71158-51b4-482c-abe8-7ae67a7d11df",
   "metadata": {},
   "outputs": [
    {
     "data": {
      "text/plain": [
       "(24576, 4371)"
      ]
     },
     "execution_count": 161,
     "metadata": {},
     "output_type": "execute_result"
    }
   ],
   "source": [
    "precisions.shape"
   ]
  },
  {
   "cell_type": "code",
   "execution_count": 166,
   "id": "13bbe02b-039f-41e0-822e-2c5b438e8cdf",
   "metadata": {},
   "outputs": [],
   "source": [
    "import cupyx.scipy.sparse as cpxs\n",
    "\n",
    "# Convert upper triangular storage into a sparse format\n",
    "sparse_upper = cpxs.csr_matrix(cp.asarray(precisions))"
   ]
  },
  {
   "cell_type": "code",
   "execution_count": 171,
   "id": "f3740175-0819-43e3-b76b-ab6fdb731053",
   "metadata": {},
   "outputs": [
    {
     "ename": "AttributeError",
     "evalue": "module 'cupyx.scipy.sparse' has no attribute 'linalg'",
     "output_type": "error",
     "traceback": [
      "\u001b[0;31m---------------------------------------------------------------------------\u001b[0m",
      "\u001b[0;31mAttributeError\u001b[0m                            Traceback (most recent call last)",
      "Cell \u001b[0;32mIn[171], line 1\u001b[0m\n\u001b[0;32m----> 1\u001b[0m inv_sparse \u001b[38;5;241m=\u001b[39m \u001b[43mcpxs\u001b[49m\u001b[38;5;241;43m.\u001b[39;49m\u001b[43mlinalg\u001b[49m\u001b[38;5;241m.\u001b[39minv(sparse_upper)\n",
      "\u001b[0;31mAttributeError\u001b[0m: module 'cupyx.scipy.sparse' has no attribute 'linalg'"
     ]
    }
   ],
   "source": [
    "inv_sparse = cpxs.linalg.inv(sparse_upper)"
   ]
  },
  {
   "cell_type": "code",
   "execution_count": 167,
   "id": "a4823bc0-cc00-464f-bb1f-d21df6410732",
   "metadata": {},
   "outputs": [
    {
     "data": {
      "text/plain": [
       "<cupyx.scipy.sparse._csr.csr_matrix at 0x720a7c1603a0>"
      ]
     },
     "execution_count": 167,
     "metadata": {},
     "output_type": "execute_result"
    }
   ],
   "source": [
    "sparse_upper"
   ]
  },
  {
   "cell_type": "code",
   "execution_count": 164,
   "id": "4dc5565e-8a0b-4c98-9db9-32b5b69f8089",
   "metadata": {},
   "outputs": [
    {
     "ename": "LinAlgError",
     "evalue": "Last 2 dimensions of the array must be square",
     "output_type": "error",
     "traceback": [
      "\u001b[0;31m---------------------------------------------------------------------------\u001b[0m",
      "\u001b[0;31mLinAlgError\u001b[0m                               Traceback (most recent call last)",
      "Cell \u001b[0;32mIn[164], line 2\u001b[0m\n\u001b[1;32m      1\u001b[0m \u001b[38;5;66;03m# Compute Cholesky factorization (for positive definite matrices)\u001b[39;00m\n\u001b[0;32m----> 2\u001b[0m L \u001b[38;5;241m=\u001b[39m \u001b[43mcp\u001b[49m\u001b[38;5;241;43m.\u001b[39;49m\u001b[43mlinalg\u001b[49m\u001b[38;5;241;43m.\u001b[39;49m\u001b[43mcholesky\u001b[49m\u001b[43m(\u001b[49m\u001b[43mcp\u001b[49m\u001b[38;5;241;43m.\u001b[39;49m\u001b[43masarray\u001b[49m\u001b[43m(\u001b[49m\u001b[43mprecisions\u001b[49m\u001b[43m)\u001b[49m\u001b[43m)\u001b[49m\n\u001b[1;32m      4\u001b[0m \u001b[38;5;66;03m# Invert using Cholesky factors\u001b[39;00m\n\u001b[1;32m      5\u001b[0m L_inv \u001b[38;5;241m=\u001b[39m cp\u001b[38;5;241m.\u001b[39mlinalg\u001b[38;5;241m.\u001b[39minv(L)\n",
      "File \u001b[0;32m~/anaconda3/envs/boostrsa/lib/python3.9/site-packages/cupy/linalg/_decomposition.py:185\u001b[0m, in \u001b[0;36mcholesky\u001b[0;34m(a)\u001b[0m\n\u001b[1;32m    183\u001b[0m _util\u001b[38;5;241m.\u001b[39m_assert_cupy_array(a)\n\u001b[1;32m    184\u001b[0m _util\u001b[38;5;241m.\u001b[39m_assert_stacked_2d(a)\n\u001b[0;32m--> 185\u001b[0m \u001b[43m_util\u001b[49m\u001b[38;5;241;43m.\u001b[39;49m\u001b[43m_assert_stacked_square\u001b[49m\u001b[43m(\u001b[49m\u001b[43ma\u001b[49m\u001b[43m)\u001b[49m\n\u001b[1;32m    187\u001b[0m \u001b[38;5;28;01mif\u001b[39;00m a\u001b[38;5;241m.\u001b[39mndim \u001b[38;5;241m>\u001b[39m \u001b[38;5;241m2\u001b[39m:\n\u001b[1;32m    188\u001b[0m     \u001b[38;5;28;01mreturn\u001b[39;00m _potrf_batched(a)\n",
      "File \u001b[0;32m~/anaconda3/envs/boostrsa/lib/python3.9/site-packages/cupy/linalg/_util.py:56\u001b[0m, in \u001b[0;36m_assert_stacked_square\u001b[0;34m(*arrays)\u001b[0m\n\u001b[1;32m     54\u001b[0m m, n \u001b[38;5;241m=\u001b[39m a\u001b[38;5;241m.\u001b[39mshape[\u001b[38;5;241m-\u001b[39m\u001b[38;5;241m2\u001b[39m:]\n\u001b[1;32m     55\u001b[0m \u001b[38;5;28;01mif\u001b[39;00m m \u001b[38;5;241m!=\u001b[39m n:\n\u001b[0;32m---> 56\u001b[0m     \u001b[38;5;28;01mraise\u001b[39;00m linalg\u001b[38;5;241m.\u001b[39mLinAlgError(\n\u001b[1;32m     57\u001b[0m         \u001b[38;5;124m'\u001b[39m\u001b[38;5;124mLast 2 dimensions of the array must be square\u001b[39m\u001b[38;5;124m'\u001b[39m)\n",
      "\u001b[0;31mLinAlgError\u001b[0m: Last 2 dimensions of the array must be square"
     ]
    }
   ],
   "source": [
    "# Compute Cholesky factorization (for positive definite matrices)\n",
    "L = cp.linalg.cholesky(cp.asarray(precisions))\n",
    "\n",
    "# Invert using Cholesky factors\n",
    "L_inv = cp.linalg.inv(L)\n",
    "\n",
    "# Compute inverse using (L^T L)^(-1)\n",
    "inv_matrix = L_inv.T @ L_inv\n",
    "\n",
    "print(\"Inverse Matrix:\\n\", inv_matrix)"
   ]
  },
  {
   "cell_type": "code",
   "execution_count": 160,
   "id": "aedbe5e7-3bba-4329-b4de-84237bdf568a",
   "metadata": {},
   "outputs": [
    {
     "data": {
      "text/plain": [
       "(24576, 4371)"
      ]
     },
     "execution_count": 160,
     "metadata": {},
     "output_type": "execute_result"
    }
   ],
   "source": [
    "precisions.shape"
   ]
  },
  {
   "cell_type": "code",
   "execution_count": 159,
   "id": "0efd6eab-37df-4980-a53d-afe056926c2d",
   "metadata": {},
   "outputs": [
    {
     "ename": "LinAlgError",
     "evalue": "cupy.linalg only supports cupy.ndarray",
     "output_type": "error",
     "traceback": [
      "\u001b[0;31m---------------------------------------------------------------------------\u001b[0m",
      "\u001b[0;31mLinAlgError\u001b[0m                               Traceback (most recent call last)",
      "Cell \u001b[0;32mIn[159], line 1\u001b[0m\n\u001b[0;32m----> 1\u001b[0m x \u001b[38;5;241m=\u001b[39m \u001b[43mcp\u001b[49m\u001b[38;5;241;43m.\u001b[39;49m\u001b[43mlinalg\u001b[49m\u001b[38;5;241;43m.\u001b[39;49m\u001b[43msolve\u001b[49m\u001b[43m(\u001b[49m\u001b[43mcp\u001b[49m\u001b[38;5;241;43m.\u001b[39;49m\u001b[43masarray\u001b[49m\u001b[43m(\u001b[49m\u001b[43mprecisions\u001b[49m\u001b[43m)\u001b[49m\u001b[43m,\u001b[49m\u001b[43m \u001b[49m\u001b[38;5;241;43m0\u001b[39;49m\u001b[43m)\u001b[49m\n",
      "File \u001b[0;32m~/anaconda3/envs/boostrsa/lib/python3.9/site-packages/cupy/linalg/_solve.py:47\u001b[0m, in \u001b[0;36msolve\u001b[0;34m(a, b)\u001b[0m\n\u001b[1;32m     44\u001b[0m     \u001b[38;5;28;01mreturn\u001b[39;00m batched_gesv(a, b)\n\u001b[1;32m     46\u001b[0m \u001b[38;5;66;03m# TODO(kataoka): Move the checks to the beginning\u001b[39;00m\n\u001b[0;32m---> 47\u001b[0m \u001b[43m_util\u001b[49m\u001b[38;5;241;43m.\u001b[39;49m\u001b[43m_assert_cupy_array\u001b[49m\u001b[43m(\u001b[49m\u001b[43ma\u001b[49m\u001b[43m,\u001b[49m\u001b[43m \u001b[49m\u001b[43mb\u001b[49m\u001b[43m)\u001b[49m\n\u001b[1;32m     48\u001b[0m _util\u001b[38;5;241m.\u001b[39m_assert_stacked_2d(a)\n\u001b[1;32m     49\u001b[0m _util\u001b[38;5;241m.\u001b[39m_assert_stacked_square(a)\n",
      "File \u001b[0;32m~/anaconda3/envs/boostrsa/lib/python3.9/site-packages/cupy/linalg/_util.py:20\u001b[0m, in \u001b[0;36m_assert_cupy_array\u001b[0;34m(*arrays)\u001b[0m\n\u001b[1;32m     18\u001b[0m \u001b[38;5;28;01mfor\u001b[39;00m a \u001b[38;5;129;01min\u001b[39;00m arrays:\n\u001b[1;32m     19\u001b[0m     \u001b[38;5;28;01mif\u001b[39;00m \u001b[38;5;129;01mnot\u001b[39;00m \u001b[38;5;28misinstance\u001b[39m(a, cupy\u001b[38;5;241m.\u001b[39m_core\u001b[38;5;241m.\u001b[39mndarray):\n\u001b[0;32m---> 20\u001b[0m         \u001b[38;5;28;01mraise\u001b[39;00m linalg\u001b[38;5;241m.\u001b[39mLinAlgError(\n\u001b[1;32m     21\u001b[0m             \u001b[38;5;124m'\u001b[39m\u001b[38;5;124mcupy.linalg only supports cupy.ndarray\u001b[39m\u001b[38;5;124m'\u001b[39m)\n",
      "\u001b[0;31mLinAlgError\u001b[0m: cupy.linalg only supports cupy.ndarray"
     ]
    }
   ],
   "source": [
    "x = cp.linalg.solve(cp.asarray(precisions), 0)"
   ]
  },
  {
   "cell_type": "code",
   "execution_count": 140,
   "id": "adafbb4b-f0b0-46a4-86c1-ddcf53f3bf3e",
   "metadata": {},
   "outputs": [
    {
     "ename": "LinAlgError",
     "evalue": "Last 2 dimensions of the array must be square",
     "output_type": "error",
     "traceback": [
      "\u001b[0;31m---------------------------------------------------------------------------\u001b[0m",
      "\u001b[0;31mLinAlgError\u001b[0m                               Traceback (most recent call last)",
      "Cell \u001b[0;32mIn[140], line 7\u001b[0m\n\u001b[1;32m      4\u001b[0m upper_triangular_matrix \u001b[38;5;241m=\u001b[39m cp\u001b[38;5;241m.\u001b[39marray(target_precs)  \u001b[38;5;66;03m# Only upper triangle stored\u001b[39;00m\n\u001b[1;32m      6\u001b[0m \u001b[38;5;66;03m# Perform Cholesky decomposition (works only for positive definite matrices)\u001b[39;00m\n\u001b[0;32m----> 7\u001b[0m L \u001b[38;5;241m=\u001b[39m \u001b[43mcp\u001b[49m\u001b[38;5;241;43m.\u001b[39;49m\u001b[43mlinalg\u001b[49m\u001b[38;5;241;43m.\u001b[39;49m\u001b[43mcholesky\u001b[49m\u001b[43m(\u001b[49m\u001b[43mupper_triangular_matrix\u001b[49m\u001b[43m)\u001b[49m\n\u001b[1;32m      9\u001b[0m \u001b[38;5;66;03m# Compute inverse using the triangular matrix\u001b[39;00m\n\u001b[1;32m     10\u001b[0m L_inv \u001b[38;5;241m=\u001b[39m cp\u001b[38;5;241m.\u001b[39mlinalg\u001b[38;5;241m.\u001b[39minv(L)\n",
      "File \u001b[0;32m~/anaconda3/envs/boostrsa/lib/python3.9/site-packages/cupy/linalg/_decomposition.py:185\u001b[0m, in \u001b[0;36mcholesky\u001b[0;34m(a)\u001b[0m\n\u001b[1;32m    183\u001b[0m _util\u001b[38;5;241m.\u001b[39m_assert_cupy_array(a)\n\u001b[1;32m    184\u001b[0m _util\u001b[38;5;241m.\u001b[39m_assert_stacked_2d(a)\n\u001b[0;32m--> 185\u001b[0m \u001b[43m_util\u001b[49m\u001b[38;5;241;43m.\u001b[39;49m\u001b[43m_assert_stacked_square\u001b[49m\u001b[43m(\u001b[49m\u001b[43ma\u001b[49m\u001b[43m)\u001b[49m\n\u001b[1;32m    187\u001b[0m \u001b[38;5;28;01mif\u001b[39;00m a\u001b[38;5;241m.\u001b[39mndim \u001b[38;5;241m>\u001b[39m \u001b[38;5;241m2\u001b[39m:\n\u001b[1;32m    188\u001b[0m     \u001b[38;5;28;01mreturn\u001b[39;00m _potrf_batched(a)\n",
      "File \u001b[0;32m~/anaconda3/envs/boostrsa/lib/python3.9/site-packages/cupy/linalg/_util.py:56\u001b[0m, in \u001b[0;36m_assert_stacked_square\u001b[0;34m(*arrays)\u001b[0m\n\u001b[1;32m     54\u001b[0m m, n \u001b[38;5;241m=\u001b[39m a\u001b[38;5;241m.\u001b[39mshape[\u001b[38;5;241m-\u001b[39m\u001b[38;5;241m2\u001b[39m:]\n\u001b[1;32m     55\u001b[0m \u001b[38;5;28;01mif\u001b[39;00m m \u001b[38;5;241m!=\u001b[39m n:\n\u001b[0;32m---> 56\u001b[0m     \u001b[38;5;28;01mraise\u001b[39;00m linalg\u001b[38;5;241m.\u001b[39mLinAlgError(\n\u001b[1;32m     57\u001b[0m         \u001b[38;5;124m'\u001b[39m\u001b[38;5;124mLast 2 dimensions of the array must be square\u001b[39m\u001b[38;5;124m'\u001b[39m)\n",
      "\u001b[0;31mLinAlgError\u001b[0m: Last 2 dimensions of the array must be square"
     ]
    }
   ],
   "source": [
    "import cupy as cp\n",
    "\n",
    "# Assume upper_triangular_matrix is stored in a compressed form\n",
    "upper_triangular_matrix = cp.array(target_precs)  # Only upper triangle stored\n",
    "\n",
    "# Perform Cholesky decomposition (works only for positive definite matrices)\n",
    "L = cp.linalg.cholesky(upper_triangular_matrix)\n",
    "\n",
    "# Compute inverse using the triangular matrix\n",
    "L_inv = cp.linalg.inv(L)\n",
    "inv_matrix = L_inv.T @ L_inv  # (L^T L)^(-1) = A^(-1)"
   ]
  },
  {
   "cell_type": "code",
   "execution_count": 138,
   "id": "2755f4c3-5eb1-476e-8500-d6910d6a6f56",
   "metadata": {},
   "outputs": [],
   "source": [
    "# Upper triangle value만 가지고 있는 precision matrix 대상으로 invert matrix를 계산할 수 있는 코드 구현"
   ]
  },
  {
   "cell_type": "code",
   "execution_count": 135,
   "id": "f9b3935c-a000-48e0-941b-cddc7425adf7",
   "metadata": {},
   "outputs": [],
   "source": [
    "prec_mat_shape = int((n_neighbor * n_neighbor - n_neighbor) / 2) + n_neighbor\n",
    "target_precs = precisions.reshape(-1, prec_mat_shape)\n",
    "target_precs = np.array([convert_1d_to_symmertic(pre, size = n_neighbor).astype(dtype) for pre in target_precs])\n",
    "variances = cp.linalg.inv(cp.asarray(target_precs))"
   ]
  },
  {
   "cell_type": "code",
   "execution_count": 23,
   "id": "bd7105c3-cf2a-4440-aec5-494efa3b5570",
   "metadata": {},
   "outputs": [],
   "source": [
    "variances = variances.reshape(len(target_centers), n_run, n_neighbor, n_neighbor).get()"
   ]
  },
  {
   "cell_type": "code",
   "execution_count": 24,
   "id": "7153db33-ca4f-4fbc-a2a0-5d755c6d4b47",
   "metadata": {},
   "outputs": [],
   "source": [
    "mempool = cp.get_default_memory_pool()\n",
    "mempool.free_all_blocks()"
   ]
  },
  {
   "cell_type": "code",
   "execution_count": 127,
   "id": "a1d01a9b-e215-416b-9f1f-dce8cd3e3992",
   "metadata": {},
   "outputs": [],
   "source": [
    "fold_preicions = cp.linalg.inv(cp.asarray(mean_fold_variance(variances, fold_info)))\n",
    "fold_preicions = fold_preicions.get()"
   ]
  },
  {
   "cell_type": "code",
   "execution_count": 128,
   "id": "a77618cb-2ed1-4692-a93f-65936cedfc5c",
   "metadata": {},
   "outputs": [],
   "source": [
    "mempool.free_all_blocks()"
   ]
  },
  {
   "cell_type": "code",
   "execution_count": 129,
   "id": "6fa5c69e-c3c2-404e-a4a9-7d8736c0f2d3",
   "metadata": {},
   "outputs": [],
   "source": [
    "fold_preicions = fold_preicions.reshape(len(target_centers), len(fold_info), n_neighbor, n_neighbor)"
   ]
  },
  {
   "cell_type": "code",
   "execution_count": 130,
   "id": "950c93b4-b26e-44bb-854e-960db73081a9",
   "metadata": {},
   "outputs": [
    {
     "ename": "KeyboardInterrupt",
     "evalue": "",
     "output_type": "error",
     "traceback": [
      "\u001b[0;31m---------------------------------------------------------------------------\u001b[0m",
      "\u001b[0;31mKeyboardInterrupt\u001b[0m                         Traceback (most recent call last)",
      "Cell \u001b[0;32mIn[130], line 2\u001b[0m\n\u001b[1;32m      1\u001b[0m r, c \u001b[38;5;241m=\u001b[39m np\u001b[38;5;241m.\u001b[39mtriu_indices(n_neighbor, k \u001b[38;5;241m=\u001b[39m \u001b[38;5;241m0\u001b[39m)\n\u001b[0;32m----> 2\u001b[0m fold_preicions \u001b[38;5;241m=\u001b[39m \u001b[43mfold_preicions\u001b[49m\u001b[43m[\u001b[49m\u001b[43m:\u001b[49m\u001b[43m,\u001b[49m\u001b[43m \u001b[49m\u001b[43m:\u001b[49m\u001b[43m,\u001b[49m\u001b[43m \u001b[49m\u001b[43mr\u001b[49m\u001b[43m,\u001b[49m\u001b[43m \u001b[49m\u001b[43mc\u001b[49m\u001b[43m]\u001b[49m\u001b[38;5;241m.\u001b[39mcopy()\n",
      "\u001b[0;31mKeyboardInterrupt\u001b[0m: "
     ]
    }
   ],
   "source": [
    "r, c = np.triu_indices(n_neighbor, k = 0)\n",
    "fold_preicions = fold_preicions[:, :, r, c].copy()"
   ]
  },
  {
   "cell_type": "code",
   "execution_count": 125,
   "id": "5a2f6d12-d8d6-4428-b4dd-0eb91fb78133",
   "metadata": {},
   "outputs": [
    {
     "name": "stdout",
     "output_type": "stream",
     "text": [
      "101.57743692398071\n"
     ]
    }
   ],
   "source": [
    "from time import time\n",
    "\n",
    "start_time = time()\n",
    "fold_preicions = np.ascontiguousarray(fold_preicions)\n",
    "end_time = time()\n",
    "\n",
    "print(end_time - start_time)"
   ]
  },
  {
   "cell_type": "code",
   "execution_count": null,
   "id": "14d1b41a-2e05-4c1a-ba99-9f8e7ed55651",
   "metadata": {},
   "outputs": [],
   "source": [
    "fold_preicions = np.asfortranarray(fold_preicions)"
   ]
  },
  {
   "cell_type": "code",
   "execution_count": 102,
   "id": "fa1d94f0-f6b1-46b2-ae60-76d255cc6712",
   "metadata": {},
   "outputs": [
    {
     "data": {
      "text/plain": [
       "(2048, 66, 4371)"
      ]
     },
     "execution_count": 102,
     "metadata": {},
     "output_type": "execute_result"
    }
   ],
   "source": [
    "fold_preicions.shape"
   ]
  },
  {
   "cell_type": "code",
   "execution_count": 103,
   "id": "c752517f-a88f-474b-a4e6-7376e5e224fe",
   "metadata": {},
   "outputs": [],
   "source": [
    "fold_preicions = cuda.to_device(fold_preicions)"
   ]
  },
  {
   "cell_type": "code",
   "execution_count": 104,
   "id": "48b01f93-6672-4d81-a8e7-a1e857a683af",
   "metadata": {},
   "outputs": [
    {
     "data": {
      "text/plain": [
       "2.2009735107421875"
      ]
     },
     "execution_count": 104,
     "metadata": {},
     "output_type": "execute_result"
    }
   ],
   "source": [
    "convert_byte(fold_preicions.nbytes, \"GB\")"
   ]
  },
  {
   "cell_type": "code",
   "execution_count": 107,
   "id": "acbd0646-b0f8-403f-b980-6330f15aed43",
   "metadata": {},
   "outputs": [
    {
     "data": {
      "text/plain": [
       "(2048, 66, 4371)"
      ]
     },
     "execution_count": 107,
     "metadata": {},
     "output_type": "execute_result"
    }
   ],
   "source": [
    "fold_preicions.shape"
   ]
  },
  {
   "cell_type": "code",
   "execution_count": 108,
   "id": "37c68515-0973-4d6e-90e0-55baf97fedf1",
   "metadata": {},
   "outputs": [],
   "source": [
    "B = np.array([[2, 3, 4],\n",
    "              [3, 5, 6],\n",
    "              [4, 6, 8]])"
   ]
  },
  {
   "cell_type": "code",
   "execution_count": 112,
   "id": "11c5110e-f8d5-4ac0-8806-d55ca312111d",
   "metadata": {},
   "outputs": [],
   "source": [
    "r, c = np.triu_indices(3, k = 0)\n"
   ]
  },
  {
   "cell_type": "code",
   "execution_count": 113,
   "id": "b7132d55-38fc-4ff5-9c4d-3aa85a8ef7c9",
   "metadata": {},
   "outputs": [
    {
     "data": {
      "text/plain": [
       "array([0, 0, 0, 1, 1, 2])"
      ]
     },
     "execution_count": 113,
     "metadata": {},
     "output_type": "execute_result"
    }
   ],
   "source": [
    "r"
   ]
  },
  {
   "cell_type": "code",
   "execution_count": 114,
   "id": "6e3aeb63-e452-4018-8b86-9d9ab29585f9",
   "metadata": {},
   "outputs": [
    {
     "data": {
      "text/plain": [
       "array([2, 3, 4, 5, 6, 8])"
      ]
     },
     "execution_count": 114,
     "metadata": {},
     "output_type": "execute_result"
    }
   ],
   "source": [
    "B[r, c]"
   ]
  },
  {
   "cell_type": "code",
   "execution_count": 115,
   "id": "035b9e4b-8d9a-4958-8ab8-2d9ee78be810",
   "metadata": {},
   "outputs": [],
   "source": [
    "# 내가 어떤 부분에 접근해야하는지를 알면 연산 가능!"
   ]
  },
  {
   "cell_type": "markdown",
   "id": "3bc1d3e0-325f-4f4c-a3dd-2df6256d0f9d",
   "metadata": {},
   "source": [
    "# AVG measurement per session"
   ]
  },
  {
   "cell_type": "code",
   "execution_count": 31,
   "id": "93626d40-82c3-45b2-a2da-3dd3bc4e0d4b",
   "metadata": {},
   "outputs": [],
   "source": [
    "# Avg conds per session\n",
    "avg_measurements = []\n",
    "avg_conds = []\n",
    "for session in uq_sessions:\n",
    "    filtering_session = sessions == session\n",
    "    sess_cond = condition[filtering_session]\n",
    "    sess_measurements = cp.compress(filtering_session, masked_measurements, axis = 1)\n",
    "    \n",
    "    mean_measurments = []\n",
    "    for cond in np.unique(condition):\n",
    "        filtering_cond = (sess_cond == cond)\n",
    "        cond_measurments = cp.compress(filtering_cond, sess_measurements, axis = 1)\n",
    "        mean_cond_measurement = cp.mean(cond_measurments, axis = 1)\n",
    "        mean_measurments.append(cp.expand_dims(mean_cond_measurement, axis = 1))\n",
    "\n",
    "        avg_conds.append(cond)\n",
    "\n",
    "    avg_measurements.append(cp.expand_dims(cp.concatenate(mean_measurments, axis = 1), axis = 1))\n",
    "avg_measurements = cp.concatenate(avg_measurements, axis = 1).get()\n",
    "\n",
    "avg_conds = np.array(avg_conds)\n",
    "\n",
    "mempool.free_all_blocks()"
   ]
  },
  {
   "cell_type": "code",
   "execution_count": 42,
   "id": "04119353-80c9-4445-b3fb-123e17899820",
   "metadata": {},
   "outputs": [
    {
     "data": {
      "text/plain": [
       "148.35498046875"
      ]
     },
     "execution_count": 42,
     "metadata": {},
     "output_type": "execute_result"
    }
   ],
   "source": [
    "convert_byte(2048 * 66 * 396 * 93 * 32, \"GB\")"
   ]
  },
  {
   "cell_type": "code",
   "execution_count": 34,
   "id": "aa612e9e-c3cb-4ea3-b337-1dab2fe18582",
   "metadata": {},
   "outputs": [],
   "source": [
    "a = np.zeros((len(target_centers), n_fold, n_cond, n_neighbor), dtype = dtype)"
   ]
  },
  {
   "cell_type": "code",
   "execution_count": 51,
   "id": "bb1ea262-e225-434f-a921-852e489cf4ae",
   "metadata": {},
   "outputs": [
    {
     "data": {
      "text/plain": [
       "19911868416"
      ]
     },
     "execution_count": 51,
     "metadata": {},
     "output_type": "execute_result"
    }
   ],
   "source": [
    "a.nbytes"
   ]
  },
  {
   "cell_type": "code",
   "execution_count": 52,
   "id": "eeceb64b-9eaf-42e2-90e7-e356e77d0a47",
   "metadata": {},
   "outputs": [
    {
     "data": {
      "text/plain": [
       "18.54437255859375"
      ]
     },
     "execution_count": 52,
     "metadata": {},
     "output_type": "execute_result"
    }
   ],
   "source": [
    "convert_byte(a.nbytes, \"GB\")"
   ]
  },
  {
   "cell_type": "code",
   "execution_count": 50,
   "id": "47f27935-3c42-4599-bcc6-19a6c1adaaa2",
   "metadata": {},
   "outputs": [
    {
     "ename": "CudaAPIError",
     "evalue": "[2] Call to cuMemAlloc results in CUDA_ERROR_OUT_OF_MEMORY",
     "output_type": "error",
     "traceback": [
      "\u001b[0;31m---------------------------------------------------------------------------\u001b[0m",
      "\u001b[0;31mCudaAPIError\u001b[0m                              Traceback (most recent call last)",
      "File \u001b[0;32m~/anaconda3/envs/boostrsa/lib/python3.9/site-packages/numba/cuda/cudadrv/driver.py:855\u001b[0m, in \u001b[0;36mHostOnlyCUDAMemoryManager._attempt_allocation\u001b[0;34m(self, allocator)\u001b[0m\n\u001b[1;32m    854\u001b[0m \u001b[38;5;28;01mtry\u001b[39;00m:\n\u001b[0;32m--> 855\u001b[0m     \u001b[38;5;28;01mreturn\u001b[39;00m \u001b[43mallocator\u001b[49m\u001b[43m(\u001b[49m\u001b[43m)\u001b[49m\n\u001b[1;32m    856\u001b[0m \u001b[38;5;28;01mexcept\u001b[39;00m CudaAPIError \u001b[38;5;28;01mas\u001b[39;00m e:\n\u001b[1;32m    857\u001b[0m     \u001b[38;5;66;03m# is out-of-memory?\u001b[39;00m\n",
      "File \u001b[0;32m~/anaconda3/envs/boostrsa/lib/python3.9/site-packages/numba/cuda/cudadrv/driver.py:1066\u001b[0m, in \u001b[0;36mNumbaCUDAMemoryManager.memalloc.<locals>.allocator\u001b[0;34m()\u001b[0m\n\u001b[1;32m   1065\u001b[0m \u001b[38;5;28;01mdef\u001b[39;00m \u001b[38;5;21mallocator\u001b[39m():\n\u001b[0;32m-> 1066\u001b[0m     \u001b[43mdriver\u001b[49m\u001b[38;5;241;43m.\u001b[39;49m\u001b[43mcuMemAlloc\u001b[49m\u001b[43m(\u001b[49m\u001b[43mbyref\u001b[49m\u001b[43m(\u001b[49m\u001b[43mptr\u001b[49m\u001b[43m)\u001b[49m\u001b[43m,\u001b[49m\u001b[43m \u001b[49m\u001b[43msize\u001b[49m\u001b[43m)\u001b[49m\n",
      "File \u001b[0;32m~/anaconda3/envs/boostrsa/lib/python3.9/site-packages/numba/cuda/cudadrv/driver.py:331\u001b[0m, in \u001b[0;36mDriver._ctypes_wrap_fn.<locals>.safe_cuda_api_call\u001b[0;34m(*args)\u001b[0m\n\u001b[1;32m    330\u001b[0m retcode \u001b[38;5;241m=\u001b[39m libfn(\u001b[38;5;241m*\u001b[39margs)\n\u001b[0;32m--> 331\u001b[0m \u001b[38;5;28;43mself\u001b[39;49m\u001b[38;5;241;43m.\u001b[39;49m\u001b[43m_check_ctypes_error\u001b[49m\u001b[43m(\u001b[49m\u001b[43mfname\u001b[49m\u001b[43m,\u001b[49m\u001b[43m \u001b[49m\u001b[43mretcode\u001b[49m\u001b[43m)\u001b[49m\n",
      "File \u001b[0;32m~/anaconda3/envs/boostrsa/lib/python3.9/site-packages/numba/cuda/cudadrv/driver.py:399\u001b[0m, in \u001b[0;36mDriver._check_ctypes_error\u001b[0;34m(self, fname, retcode)\u001b[0m\n\u001b[1;32m    398\u001b[0m     \u001b[38;5;28mself\u001b[39m\u001b[38;5;241m.\u001b[39m_detect_fork()\n\u001b[0;32m--> 399\u001b[0m \u001b[38;5;28;01mraise\u001b[39;00m CudaAPIError(retcode, msg)\n",
      "\u001b[0;31mCudaAPIError\u001b[0m: [2] Call to cuMemAlloc results in CUDA_ERROR_OUT_OF_MEMORY",
      "\nDuring handling of the above exception, another exception occurred:\n",
      "\u001b[0;31mCudaAPIError\u001b[0m                              Traceback (most recent call last)",
      "Cell \u001b[0;32mIn[50], line 5\u001b[0m\n\u001b[1;32m      2\u001b[0m avg_measurements \u001b[38;5;241m=\u001b[39m cuda\u001b[38;5;241m.\u001b[39mto_device(avg_measurements)\n\u001b[1;32m      4\u001b[0m matmul1_out \u001b[38;5;241m=\u001b[39m cuda\u001b[38;5;241m.\u001b[39mto_device(np\u001b[38;5;241m.\u001b[39mzeros((\u001b[38;5;28mlen\u001b[39m(target_centers), n_fold, n_cond, n_neighbor), dtype \u001b[38;5;241m=\u001b[39m high_capacity_dtype))\n\u001b[0;32m----> 5\u001b[0m kernel_out \u001b[38;5;241m=\u001b[39m \u001b[43mcuda\u001b[49m\u001b[38;5;241;43m.\u001b[39;49m\u001b[43mto_device\u001b[49m\u001b[43m(\u001b[49m\u001b[43mnp\u001b[49m\u001b[38;5;241;43m.\u001b[39;49m\u001b[43mzeros\u001b[49m\u001b[43m(\u001b[49m\u001b[43m(\u001b[49m\u001b[38;5;28;43mlen\u001b[39;49m\u001b[43m(\u001b[49m\u001b[43mtarget_centers\u001b[49m\u001b[43m)\u001b[49m\u001b[43m,\u001b[49m\u001b[43m \u001b[49m\u001b[43mn_fold\u001b[49m\u001b[43m,\u001b[49m\u001b[43m \u001b[49m\u001b[43mn_cond\u001b[49m\u001b[43m,\u001b[49m\u001b[43m \u001b[49m\u001b[43mn_cond\u001b[49m\u001b[43m)\u001b[49m\u001b[43m,\u001b[49m\u001b[43m \u001b[49m\u001b[43mdtype\u001b[49m\u001b[43m \u001b[49m\u001b[38;5;241;43m=\u001b[39;49m\u001b[43m \u001b[49m\u001b[43mhigh_capacity_dtype\u001b[49m\u001b[43m)\u001b[49m\u001b[43m)\u001b[49m\n\u001b[1;32m      6\u001b[0m \u001b[38;5;66;03m#calc_kernel[block_2ds, thread_2ds](avg_measurements, fold_preicions, fold_info, matmul1_out, kernel_out)\u001b[39;00m\n",
      "File \u001b[0;32m~/anaconda3/envs/boostrsa/lib/python3.9/site-packages/numba/cuda/cudadrv/devices.py:232\u001b[0m, in \u001b[0;36mrequire_context.<locals>._require_cuda_context\u001b[0;34m(*args, **kws)\u001b[0m\n\u001b[1;32m    229\u001b[0m \u001b[38;5;129m@functools\u001b[39m\u001b[38;5;241m.\u001b[39mwraps(fn)\n\u001b[1;32m    230\u001b[0m \u001b[38;5;28;01mdef\u001b[39;00m \u001b[38;5;21m_require_cuda_context\u001b[39m(\u001b[38;5;241m*\u001b[39margs, \u001b[38;5;241m*\u001b[39m\u001b[38;5;241m*\u001b[39mkws):\n\u001b[1;32m    231\u001b[0m     \u001b[38;5;28;01mwith\u001b[39;00m _runtime\u001b[38;5;241m.\u001b[39mensure_context():\n\u001b[0;32m--> 232\u001b[0m         \u001b[38;5;28;01mreturn\u001b[39;00m \u001b[43mfn\u001b[49m\u001b[43m(\u001b[49m\u001b[38;5;241;43m*\u001b[39;49m\u001b[43margs\u001b[49m\u001b[43m,\u001b[49m\u001b[43m \u001b[49m\u001b[38;5;241;43m*\u001b[39;49m\u001b[38;5;241;43m*\u001b[39;49m\u001b[43mkws\u001b[49m\u001b[43m)\u001b[49m\n",
      "File \u001b[0;32m~/anaconda3/envs/boostrsa/lib/python3.9/site-packages/numba/cuda/api.py:128\u001b[0m, in \u001b[0;36mto_device\u001b[0;34m(obj, stream, copy, to)\u001b[0m\n\u001b[1;32m     98\u001b[0m \u001b[38;5;250m\u001b[39m\u001b[38;5;124;03m\"\"\"to_device(obj, stream=0, copy=True, to=None)\u001b[39;00m\n\u001b[1;32m     99\u001b[0m \n\u001b[1;32m    100\u001b[0m \u001b[38;5;124;03mAllocate and transfer a numpy ndarray or structured scalar to the device.\u001b[39;00m\n\u001b[0;32m   (...)\u001b[0m\n\u001b[1;32m    125\u001b[0m \u001b[38;5;124;03m    hary = d_ary.copy_to_host(stream=stream)\u001b[39;00m\n\u001b[1;32m    126\u001b[0m \u001b[38;5;124;03m\"\"\"\u001b[39;00m\n\u001b[1;32m    127\u001b[0m \u001b[38;5;28;01mif\u001b[39;00m to \u001b[38;5;129;01mis\u001b[39;00m \u001b[38;5;28;01mNone\u001b[39;00m:\n\u001b[0;32m--> 128\u001b[0m     to, new \u001b[38;5;241m=\u001b[39m \u001b[43mdevicearray\u001b[49m\u001b[38;5;241;43m.\u001b[39;49m\u001b[43mauto_device\u001b[49m\u001b[43m(\u001b[49m\u001b[43mobj\u001b[49m\u001b[43m,\u001b[49m\u001b[43m \u001b[49m\u001b[43mstream\u001b[49m\u001b[38;5;241;43m=\u001b[39;49m\u001b[43mstream\u001b[49m\u001b[43m,\u001b[49m\u001b[43m \u001b[49m\u001b[43mcopy\u001b[49m\u001b[38;5;241;43m=\u001b[39;49m\u001b[43mcopy\u001b[49m\u001b[43m,\u001b[49m\n\u001b[1;32m    129\u001b[0m \u001b[43m                                      \u001b[49m\u001b[43muser_explicit\u001b[49m\u001b[38;5;241;43m=\u001b[39;49m\u001b[38;5;28;43;01mTrue\u001b[39;49;00m\u001b[43m)\u001b[49m\n\u001b[1;32m    130\u001b[0m     \u001b[38;5;28;01mreturn\u001b[39;00m to\n\u001b[1;32m    131\u001b[0m \u001b[38;5;28;01mif\u001b[39;00m copy:\n",
      "File \u001b[0;32m~/anaconda3/envs/boostrsa/lib/python3.9/site-packages/numba/cuda/cudadrv/devicearray.py:876\u001b[0m, in \u001b[0;36mauto_device\u001b[0;34m(obj, stream, copy, user_explicit)\u001b[0m\n\u001b[1;32m    871\u001b[0m     obj \u001b[38;5;241m=\u001b[39m np\u001b[38;5;241m.\u001b[39marray(\n\u001b[1;32m    872\u001b[0m         obj,\n\u001b[1;32m    873\u001b[0m         copy\u001b[38;5;241m=\u001b[39m\u001b[38;5;28;01mFalse\u001b[39;00m,\n\u001b[1;32m    874\u001b[0m         subok\u001b[38;5;241m=\u001b[39m\u001b[38;5;28;01mTrue\u001b[39;00m)\n\u001b[1;32m    875\u001b[0m     sentry_contiguous(obj)\n\u001b[0;32m--> 876\u001b[0m     devobj \u001b[38;5;241m=\u001b[39m \u001b[43mfrom_array_like\u001b[49m\u001b[43m(\u001b[49m\u001b[43mobj\u001b[49m\u001b[43m,\u001b[49m\u001b[43m \u001b[49m\u001b[43mstream\u001b[49m\u001b[38;5;241;43m=\u001b[39;49m\u001b[43mstream\u001b[49m\u001b[43m)\u001b[49m\n\u001b[1;32m    877\u001b[0m \u001b[38;5;28;01mif\u001b[39;00m copy:\n\u001b[1;32m    878\u001b[0m     \u001b[38;5;28;01mif\u001b[39;00m config\u001b[38;5;241m.\u001b[39mCUDA_WARN_ON_IMPLICIT_COPY:\n",
      "File \u001b[0;32m~/anaconda3/envs/boostrsa/lib/python3.9/site-packages/numba/cuda/cudadrv/devicearray.py:797\u001b[0m, in \u001b[0;36mfrom_array_like\u001b[0;34m(ary, stream, gpu_data)\u001b[0m\n\u001b[1;32m    795\u001b[0m \u001b[38;5;28;01mdef\u001b[39;00m \u001b[38;5;21mfrom_array_like\u001b[39m(ary, stream\u001b[38;5;241m=\u001b[39m\u001b[38;5;241m0\u001b[39m, gpu_data\u001b[38;5;241m=\u001b[39m\u001b[38;5;28;01mNone\u001b[39;00m):\n\u001b[1;32m    796\u001b[0m     \u001b[38;5;124m\"\u001b[39m\u001b[38;5;124mCreate a DeviceNDArray object that is like ary.\u001b[39m\u001b[38;5;124m\"\u001b[39m\n\u001b[0;32m--> 797\u001b[0m     \u001b[38;5;28;01mreturn\u001b[39;00m \u001b[43mDeviceNDArray\u001b[49m\u001b[43m(\u001b[49m\u001b[43mary\u001b[49m\u001b[38;5;241;43m.\u001b[39;49m\u001b[43mshape\u001b[49m\u001b[43m,\u001b[49m\u001b[43m \u001b[49m\u001b[43mary\u001b[49m\u001b[38;5;241;43m.\u001b[39;49m\u001b[43mstrides\u001b[49m\u001b[43m,\u001b[49m\u001b[43m \u001b[49m\u001b[43mary\u001b[49m\u001b[38;5;241;43m.\u001b[39;49m\u001b[43mdtype\u001b[49m\u001b[43m,\u001b[49m\u001b[43m \u001b[49m\u001b[43mstream\u001b[49m\u001b[38;5;241;43m=\u001b[39;49m\u001b[43mstream\u001b[49m\u001b[43m,\u001b[49m\n\u001b[1;32m    798\u001b[0m \u001b[43m                         \u001b[49m\u001b[43mgpu_data\u001b[49m\u001b[38;5;241;43m=\u001b[39;49m\u001b[43mgpu_data\u001b[49m\u001b[43m)\u001b[49m\n",
      "File \u001b[0;32m~/anaconda3/envs/boostrsa/lib/python3.9/site-packages/numba/cuda/cudadrv/devicearray.py:103\u001b[0m, in \u001b[0;36mDeviceNDArrayBase.__init__\u001b[0;34m(self, shape, strides, dtype, stream, gpu_data)\u001b[0m\n\u001b[1;32m    100\u001b[0m \u001b[38;5;28;01mif\u001b[39;00m gpu_data \u001b[38;5;129;01mis\u001b[39;00m \u001b[38;5;28;01mNone\u001b[39;00m:\n\u001b[1;32m    101\u001b[0m     \u001b[38;5;28mself\u001b[39m\u001b[38;5;241m.\u001b[39malloc_size \u001b[38;5;241m=\u001b[39m _driver\u001b[38;5;241m.\u001b[39mmemory_size_from_info(\n\u001b[1;32m    102\u001b[0m         \u001b[38;5;28mself\u001b[39m\u001b[38;5;241m.\u001b[39mshape, \u001b[38;5;28mself\u001b[39m\u001b[38;5;241m.\u001b[39mstrides, \u001b[38;5;28mself\u001b[39m\u001b[38;5;241m.\u001b[39mdtype\u001b[38;5;241m.\u001b[39mitemsize)\n\u001b[0;32m--> 103\u001b[0m     gpu_data \u001b[38;5;241m=\u001b[39m \u001b[43mdevices\u001b[49m\u001b[38;5;241;43m.\u001b[39;49m\u001b[43mget_context\u001b[49m\u001b[43m(\u001b[49m\u001b[43m)\u001b[49m\u001b[38;5;241;43m.\u001b[39;49m\u001b[43mmemalloc\u001b[49m\u001b[43m(\u001b[49m\u001b[38;5;28;43mself\u001b[39;49m\u001b[38;5;241;43m.\u001b[39;49m\u001b[43malloc_size\u001b[49m\u001b[43m)\u001b[49m\n\u001b[1;32m    104\u001b[0m \u001b[38;5;28;01melse\u001b[39;00m:\n\u001b[1;32m    105\u001b[0m     \u001b[38;5;28mself\u001b[39m\u001b[38;5;241m.\u001b[39malloc_size \u001b[38;5;241m=\u001b[39m _driver\u001b[38;5;241m.\u001b[39mdevice_memory_size(gpu_data)\n",
      "File \u001b[0;32m~/anaconda3/envs/boostrsa/lib/python3.9/site-packages/numba/cuda/cudadrv/driver.py:1376\u001b[0m, in \u001b[0;36mContext.memalloc\u001b[0;34m(self, bytesize)\u001b[0m\n\u001b[1;32m   1375\u001b[0m \u001b[38;5;28;01mdef\u001b[39;00m \u001b[38;5;21mmemalloc\u001b[39m(\u001b[38;5;28mself\u001b[39m, bytesize):\n\u001b[0;32m-> 1376\u001b[0m     \u001b[38;5;28;01mreturn\u001b[39;00m \u001b[38;5;28;43mself\u001b[39;49m\u001b[38;5;241;43m.\u001b[39;49m\u001b[43mmemory_manager\u001b[49m\u001b[38;5;241;43m.\u001b[39;49m\u001b[43mmemalloc\u001b[49m\u001b[43m(\u001b[49m\u001b[43mbytesize\u001b[49m\u001b[43m)\u001b[49m\n",
      "File \u001b[0;32m~/anaconda3/envs/boostrsa/lib/python3.9/site-packages/numba/cuda/cudadrv/driver.py:1068\u001b[0m, in \u001b[0;36mNumbaCUDAMemoryManager.memalloc\u001b[0;34m(self, size)\u001b[0m\n\u001b[1;32m   1065\u001b[0m     \u001b[38;5;28;01mdef\u001b[39;00m \u001b[38;5;21mallocator\u001b[39m():\n\u001b[1;32m   1066\u001b[0m         driver\u001b[38;5;241m.\u001b[39mcuMemAlloc(byref(ptr), size)\n\u001b[0;32m-> 1068\u001b[0m     \u001b[38;5;28;43mself\u001b[39;49m\u001b[38;5;241;43m.\u001b[39;49m\u001b[43m_attempt_allocation\u001b[49m\u001b[43m(\u001b[49m\u001b[43mallocator\u001b[49m\u001b[43m)\u001b[49m\n\u001b[1;32m   1069\u001b[0m     alloc_key \u001b[38;5;241m=\u001b[39m ptr\u001b[38;5;241m.\u001b[39mvalue\n\u001b[1;32m   1071\u001b[0m finalizer \u001b[38;5;241m=\u001b[39m _alloc_finalizer(\u001b[38;5;28mself\u001b[39m, ptr, alloc_key, size)\n",
      "File \u001b[0;32m~/anaconda3/envs/boostrsa/lib/python3.9/site-packages/numba/cuda/cudadrv/driver.py:867\u001b[0m, in \u001b[0;36mHostOnlyCUDAMemoryManager._attempt_allocation\u001b[0;34m(self, allocator)\u001b[0m\n\u001b[1;32m    865\u001b[0m     \u001b[38;5;28mself\u001b[39m\u001b[38;5;241m.\u001b[39mdeallocations\u001b[38;5;241m.\u001b[39mclear()\n\u001b[1;32m    866\u001b[0m     \u001b[38;5;66;03m# try again\u001b[39;00m\n\u001b[0;32m--> 867\u001b[0m     \u001b[38;5;28;01mreturn\u001b[39;00m \u001b[43mallocator\u001b[49m\u001b[43m(\u001b[49m\u001b[43m)\u001b[49m\n\u001b[1;32m    868\u001b[0m \u001b[38;5;28;01melse\u001b[39;00m:\n\u001b[1;32m    869\u001b[0m     \u001b[38;5;28;01mraise\u001b[39;00m\n",
      "File \u001b[0;32m~/anaconda3/envs/boostrsa/lib/python3.9/site-packages/numba/cuda/cudadrv/driver.py:1066\u001b[0m, in \u001b[0;36mNumbaCUDAMemoryManager.memalloc.<locals>.allocator\u001b[0;34m()\u001b[0m\n\u001b[1;32m   1065\u001b[0m \u001b[38;5;28;01mdef\u001b[39;00m \u001b[38;5;21mallocator\u001b[39m():\n\u001b[0;32m-> 1066\u001b[0m     \u001b[43mdriver\u001b[49m\u001b[38;5;241;43m.\u001b[39;49m\u001b[43mcuMemAlloc\u001b[49m\u001b[43m(\u001b[49m\u001b[43mbyref\u001b[49m\u001b[43m(\u001b[49m\u001b[43mptr\u001b[49m\u001b[43m)\u001b[49m\u001b[43m,\u001b[49m\u001b[43m \u001b[49m\u001b[43msize\u001b[49m\u001b[43m)\u001b[49m\n",
      "File \u001b[0;32m~/anaconda3/envs/boostrsa/lib/python3.9/site-packages/numba/cuda/cudadrv/driver.py:331\u001b[0m, in \u001b[0;36mDriver._ctypes_wrap_fn.<locals>.safe_cuda_api_call\u001b[0;34m(*args)\u001b[0m\n\u001b[1;32m    329\u001b[0m _logger\u001b[38;5;241m.\u001b[39mdebug(\u001b[38;5;124m'\u001b[39m\u001b[38;5;124mcall driver api: \u001b[39m\u001b[38;5;132;01m%s\u001b[39;00m\u001b[38;5;124m'\u001b[39m, libfn\u001b[38;5;241m.\u001b[39m\u001b[38;5;18m__name__\u001b[39m)\n\u001b[1;32m    330\u001b[0m retcode \u001b[38;5;241m=\u001b[39m libfn(\u001b[38;5;241m*\u001b[39margs)\n\u001b[0;32m--> 331\u001b[0m \u001b[38;5;28;43mself\u001b[39;49m\u001b[38;5;241;43m.\u001b[39;49m\u001b[43m_check_ctypes_error\u001b[49m\u001b[43m(\u001b[49m\u001b[43mfname\u001b[49m\u001b[43m,\u001b[49m\u001b[43m \u001b[49m\u001b[43mretcode\u001b[49m\u001b[43m)\u001b[49m\n",
      "File \u001b[0;32m~/anaconda3/envs/boostrsa/lib/python3.9/site-packages/numba/cuda/cudadrv/driver.py:399\u001b[0m, in \u001b[0;36mDriver._check_ctypes_error\u001b[0;34m(self, fname, retcode)\u001b[0m\n\u001b[1;32m    397\u001b[0m \u001b[38;5;28;01mif\u001b[39;00m retcode \u001b[38;5;241m==\u001b[39m enums\u001b[38;5;241m.\u001b[39mCUDA_ERROR_NOT_INITIALIZED:\n\u001b[1;32m    398\u001b[0m     \u001b[38;5;28mself\u001b[39m\u001b[38;5;241m.\u001b[39m_detect_fork()\n\u001b[0;32m--> 399\u001b[0m \u001b[38;5;28;01mraise\u001b[39;00m CudaAPIError(retcode, msg)\n",
      "\u001b[0;31mCudaAPIError\u001b[0m: [2] Call to cuMemAlloc results in CUDA_ERROR_OUT_OF_MEMORY"
     ]
    }
   ],
   "source": [
    "# make kernel\n",
    "avg_measurements = cuda.to_device(avg_measurements)\n",
    "\n",
    "matmul1_out = cuda.to_device(np.zeros((len(target_centers), n_fold, n_cond, n_neighbor), dtype = dtype))\n",
    "kernel_out = cuda.to_device(np.zeros((len(target_centers), n_fold, n_cond, n_cond), dtype = dtype))\n",
    "calc_kernel[block_2ds, thread_2ds](avg_measurements, fold_preicions, fold_info, matmul1_out, kernel_out)"
   ]
  },
  {
   "cell_type": "code",
   "execution_count": 51,
   "id": "1c9ef8e9-7fb6-48b4-8899-504d18a95aa3",
   "metadata": {},
   "outputs": [],
   "source": [
    "del matmul1_out"
   ]
  },
  {
   "cell_type": "code",
   "execution_count": 45,
   "id": "1efa770c-54dc-448f-af3f-f87c12083d6c",
   "metadata": {},
   "outputs": [
    {
     "data": {
      "text/plain": [
       "(2048, 66, 396, 93)"
      ]
     },
     "execution_count": 45,
     "metadata": {},
     "output_type": "execute_result"
    }
   ],
   "source": [
    "len(target_centers), n_fold, n_cond, n_neighbor"
   ]
  },
  {
   "cell_type": "code",
   "execution_count": 36,
   "id": "1e19f8f1-af98-4655-bf34-6851e4a6cee5",
   "metadata": {},
   "outputs": [
    {
     "data": {
      "text/plain": [
       "18.54437255859375"
      ]
     },
     "execution_count": 36,
     "metadata": {},
     "output_type": "execute_result"
    }
   ],
   "source": []
  },
  {
   "cell_type": "code",
   "execution_count": null,
   "id": "20424671-080c-4f51-9282-e7c33bd202e0",
   "metadata": {},
   "outputs": [],
   "source": []
  }
 ],
 "metadata": {
  "kernelspec": {
   "display_name": "boostrsa",
   "language": "python",
   "name": "boostrsa"
  },
  "language_info": {
   "codemirror_mode": {
    "name": "ipython",
    "version": 3
   },
   "file_extension": ".py",
   "mimetype": "text/x-python",
   "name": "python",
   "nbconvert_exporter": "python",
   "pygments_lexer": "ipython3",
   "version": "3.9.19"
  }
 },
 "nbformat": 4,
 "nbformat_minor": 5
}
