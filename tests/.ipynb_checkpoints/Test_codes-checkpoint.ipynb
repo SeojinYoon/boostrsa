{
 "cells": [
  {
   "cell_type": "code",
   "execution_count": 6,
   "id": "aac93bf9-b584-4d0d-8e88-c244c8568e2b",
   "metadata": {},
   "outputs": [],
   "source": [
    "import os\n",
    "import cupy as cp\n",
    "os.environ[\"CUDA_HOME\"] = \"/usr/local/cuda-12.6\" # for linux"
   ]
  },
  {
   "cell_type": "markdown",
   "id": "bad9b40a-40b4-47de-9ba2-6c1255c240dd",
   "metadata": {},
   "source": [
    "# System"
   ]
  },
  {
   "cell_type": "code",
   "execution_count": 7,
   "id": "e554a886-d60e-4fda-9fe1-69e7e0f47b77",
   "metadata": {},
   "outputs": [
    {
     "data": {
      "text/plain": [
       "array([0.])"
      ]
     },
     "execution_count": 7,
     "metadata": {},
     "output_type": "execute_result"
    }
   ],
   "source": [
    "# Check error - include \"vector_types.h\"\n",
    "cp.array(cp.zeros((1,)))"
   ]
  },
  {
   "cell_type": "code",
   "execution_count": null,
   "id": "e0e667f0-c747-4397-a264-857e938fe826",
   "metadata": {},
   "outputs": [],
   "source": []
  }
 ],
 "metadata": {
  "kernelspec": {
   "display_name": "recent",
   "language": "python",
   "name": "recent"
  },
  "language_info": {
   "codemirror_mode": {
    "name": "ipython",
    "version": 3
   },
   "file_extension": ".py",
   "mimetype": "text/x-python",
   "name": "python",
   "nbconvert_exporter": "python",
   "pygments_lexer": "ipython3",
   "version": "3.12.8"
  }
 },
 "nbformat": 4,
 "nbformat_minor": 5
}
