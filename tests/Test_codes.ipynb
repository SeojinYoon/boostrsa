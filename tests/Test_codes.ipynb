{
 "cells": [
  {
   "cell_type": "code",
   "execution_count": 2,
   "id": "aac93bf9-b584-4d0d-8e88-c244c8568e2b",
   "metadata": {},
   "outputs": [],
   "source": [
    "import os\n",
    "import cupy as cp\n",
    "os.environ[\"CUDA_HOME\"] = \"/usr/local/cuda-12.6\" # for linux"
   ]
  },
  {
   "cell_type": "markdown",
   "id": "bad9b40a-40b4-47de-9ba2-6c1255c240dd",
   "metadata": {},
   "source": [
    "# System"
   ]
  },
  {
   "cell_type": "code",
   "execution_count": 3,
   "id": "e554a886-d60e-4fda-9fe1-69e7e0f47b77",
   "metadata": {},
   "outputs": [
    {
     "ename": "CompileException",
     "evalue": "/home/seojin/anaconda3/envs/seojin/lib/python3.9/site-packages/cupy/_core/include/cupy/_cuda/cuda-12.6/cuda_fp16.h(129): catastrophic error: cannot open source file \"vector_types.h\"\n  #include \"vector_types.h\"\n                           ^\n\n1 catastrophic error detected in the compilation of \"/tmp/tmp92eayyc0/ab185c163e1456bb5835456ceeea1443a2117917.cubin.cu\".\nCompilation terminated.\n",
     "output_type": "error",
     "traceback": [
      "\u001b[0;31m---------------------------------------------------------------------------\u001b[0m",
      "\u001b[0;31mNVRTCError\u001b[0m                                Traceback (most recent call last)",
      "File \u001b[0;32m~/anaconda3/envs/seojin/lib/python3.9/site-packages/cupy/cuda/compiler.py:692\u001b[0m, in \u001b[0;36m_NVRTCProgram.compile\u001b[0;34m(self, options, log_stream)\u001b[0m\n\u001b[1;32m    691\u001b[0m         nvrtc\u001b[38;5;241m.\u001b[39maddNameExpression(\u001b[38;5;28mself\u001b[39m\u001b[38;5;241m.\u001b[39mptr, ker)\n\u001b[0;32m--> 692\u001b[0m \u001b[43mnvrtc\u001b[49m\u001b[38;5;241;43m.\u001b[39;49m\u001b[43mcompileProgram\u001b[49m\u001b[43m(\u001b[49m\u001b[38;5;28;43mself\u001b[39;49m\u001b[38;5;241;43m.\u001b[39;49m\u001b[43mptr\u001b[49m\u001b[43m,\u001b[49m\u001b[43m \u001b[49m\u001b[43moptions\u001b[49m\u001b[43m)\u001b[49m\n\u001b[1;32m    693\u001b[0m mapping \u001b[38;5;241m=\u001b[39m \u001b[38;5;28;01mNone\u001b[39;00m\n",
      "File \u001b[0;32mcupy_backends/cuda/libs/nvrtc.pyx:125\u001b[0m, in \u001b[0;36mcupy_backends.cuda.libs.nvrtc.compileProgram\u001b[0;34m()\u001b[0m\n",
      "File \u001b[0;32mcupy_backends/cuda/libs/nvrtc.pyx:138\u001b[0m, in \u001b[0;36mcupy_backends.cuda.libs.nvrtc.compileProgram\u001b[0;34m()\u001b[0m\n",
      "File \u001b[0;32mcupy_backends/cuda/libs/nvrtc.pyx:53\u001b[0m, in \u001b[0;36mcupy_backends.cuda.libs.nvrtc.check_status\u001b[0;34m()\u001b[0m\n",
      "\u001b[0;31mNVRTCError\u001b[0m: NVRTC_ERROR_COMPILATION (6)",
      "\nDuring handling of the above exception, another exception occurred:\n",
      "\u001b[0;31mCompileException\u001b[0m                          Traceback (most recent call last)",
      "Input \u001b[0;32mIn [3]\u001b[0m, in \u001b[0;36m<cell line: 2>\u001b[0;34m()\u001b[0m\n\u001b[1;32m      1\u001b[0m \u001b[38;5;66;03m# Check error - include \"vector_types.h\"\u001b[39;00m\n\u001b[0;32m----> 2\u001b[0m \u001b[43mcp\u001b[49m\u001b[38;5;241;43m.\u001b[39;49m\u001b[43marray\u001b[49m\u001b[43m(\u001b[49m\u001b[43mcp\u001b[49m\u001b[38;5;241;43m.\u001b[39;49m\u001b[43mzeros\u001b[49m\u001b[43m(\u001b[49m\u001b[43m(\u001b[49m\u001b[38;5;241;43m1\u001b[39;49m\u001b[43m,\u001b[49m\u001b[43m)\u001b[49m\u001b[43m)\u001b[49m\u001b[43m)\u001b[49m\n",
      "File \u001b[0;32m~/anaconda3/envs/seojin/lib/python3.9/site-packages/cupy/_creation/from_data.py:53\u001b[0m, in \u001b[0;36marray\u001b[0;34m(obj, dtype, copy, order, subok, ndmin, blocking)\u001b[0m\n\u001b[1;32m      7\u001b[0m \u001b[38;5;28;01mdef\u001b[39;00m \u001b[38;5;21marray\u001b[39m(obj, dtype\u001b[38;5;241m=\u001b[39m\u001b[38;5;28;01mNone\u001b[39;00m, copy\u001b[38;5;241m=\u001b[39m\u001b[38;5;28;01mTrue\u001b[39;00m, order\u001b[38;5;241m=\u001b[39m\u001b[38;5;124m'\u001b[39m\u001b[38;5;124mK\u001b[39m\u001b[38;5;124m'\u001b[39m, subok\u001b[38;5;241m=\u001b[39m\u001b[38;5;28;01mFalse\u001b[39;00m, ndmin\u001b[38;5;241m=\u001b[39m\u001b[38;5;241m0\u001b[39m, \u001b[38;5;241m*\u001b[39m,\n\u001b[1;32m      8\u001b[0m           blocking\u001b[38;5;241m=\u001b[39m\u001b[38;5;28;01mFalse\u001b[39;00m):\n\u001b[1;32m      9\u001b[0m     \u001b[38;5;124;03m\"\"\"Creates an array on the current device.\u001b[39;00m\n\u001b[1;32m     10\u001b[0m \n\u001b[1;32m     11\u001b[0m \u001b[38;5;124;03m    This function currently does not support the ``subok`` option.\u001b[39;00m\n\u001b[0;32m   (...)\u001b[0m\n\u001b[1;32m     51\u001b[0m \n\u001b[1;32m     52\u001b[0m \u001b[38;5;124;03m    \"\"\"\u001b[39;00m\n\u001b[0;32m---> 53\u001b[0m     \u001b[38;5;28;01mreturn\u001b[39;00m \u001b[43m_core\u001b[49m\u001b[38;5;241;43m.\u001b[39;49m\u001b[43marray\u001b[49m\u001b[43m(\u001b[49m\u001b[43mobj\u001b[49m\u001b[43m,\u001b[49m\u001b[43m \u001b[49m\u001b[43mdtype\u001b[49m\u001b[43m,\u001b[49m\u001b[43m \u001b[49m\u001b[43mcopy\u001b[49m\u001b[43m,\u001b[49m\u001b[43m \u001b[49m\u001b[43morder\u001b[49m\u001b[43m,\u001b[49m\u001b[43m \u001b[49m\u001b[43msubok\u001b[49m\u001b[43m,\u001b[49m\u001b[43m \u001b[49m\u001b[43mndmin\u001b[49m\u001b[43m,\u001b[49m\u001b[43m \u001b[49m\u001b[43mblocking\u001b[49m\u001b[43m)\u001b[49m\n",
      "File \u001b[0;32mcupy/_core/core.pyx:2408\u001b[0m, in \u001b[0;36mcupy._core.core.array\u001b[0;34m()\u001b[0m\n",
      "File \u001b[0;32mcupy/_core/core.pyx:2418\u001b[0m, in \u001b[0;36mcupy._core.core.array\u001b[0;34m()\u001b[0m\n",
      "File \u001b[0;32mcupy/_core/core.pyx:2449\u001b[0m, in \u001b[0;36mcupy._core.core._array_from_cupy_ndarray\u001b[0;34m()\u001b[0m\n",
      "File \u001b[0;32mcupy/_core/core.pyx:518\u001b[0m, in \u001b[0;36mcupy._core.core._ndarray_base.astype\u001b[0;34m()\u001b[0m\n",
      "File \u001b[0;32mcupy/_core/core.pyx:586\u001b[0m, in \u001b[0;36mcupy._core.core._ndarray_base.astype\u001b[0;34m()\u001b[0m\n",
      "File \u001b[0;32mcupy/_core/_kernel.pyx:1375\u001b[0m, in \u001b[0;36mcupy._core._kernel.ufunc.__call__\u001b[0;34m()\u001b[0m\n",
      "File \u001b[0;32mcupy/_core/_kernel.pyx:1402\u001b[0m, in \u001b[0;36mcupy._core._kernel.ufunc._get_ufunc_kernel\u001b[0;34m()\u001b[0m\n",
      "File \u001b[0;32mcupy/_core/_kernel.pyx:1082\u001b[0m, in \u001b[0;36mcupy._core._kernel._get_ufunc_kernel\u001b[0;34m()\u001b[0m\n",
      "File \u001b[0;32mcupy/_core/_kernel.pyx:94\u001b[0m, in \u001b[0;36mcupy._core._kernel._get_simple_elementwise_kernel\u001b[0;34m()\u001b[0m\n",
      "File \u001b[0;32mcupy/_core/_kernel.pyx:82\u001b[0m, in \u001b[0;36mcupy._core._kernel._get_simple_elementwise_kernel_from_code\u001b[0;34m()\u001b[0m\n",
      "File \u001b[0;32mcupy/_core/core.pyx:2283\u001b[0m, in \u001b[0;36mcupy._core.core.compile_with_cache\u001b[0;34m()\u001b[0m\n",
      "File \u001b[0;32m~/anaconda3/envs/seojin/lib/python3.9/site-packages/cupy/cuda/compiler.py:498\u001b[0m, in \u001b[0;36m_compile_module_with_cache\u001b[0;34m(source, options, arch, cache_dir, extra_source, backend, enable_cooperative_groups, name_expressions, log_stream, jitify)\u001b[0m\n\u001b[1;32m    494\u001b[0m     \u001b[38;5;28;01mreturn\u001b[39;00m _compile_with_cache_hip(\n\u001b[1;32m    495\u001b[0m         source, options, arch, cache_dir, extra_source, backend,\n\u001b[1;32m    496\u001b[0m         name_expressions, log_stream, cache_in_memory)\n\u001b[1;32m    497\u001b[0m \u001b[38;5;28;01melse\u001b[39;00m:\n\u001b[0;32m--> 498\u001b[0m     \u001b[38;5;28;01mreturn\u001b[39;00m \u001b[43m_compile_with_cache_cuda\u001b[49m\u001b[43m(\u001b[49m\n\u001b[1;32m    499\u001b[0m \u001b[43m        \u001b[49m\u001b[43msource\u001b[49m\u001b[43m,\u001b[49m\u001b[43m \u001b[49m\u001b[43moptions\u001b[49m\u001b[43m,\u001b[49m\u001b[43m \u001b[49m\u001b[43march\u001b[49m\u001b[43m,\u001b[49m\u001b[43m \u001b[49m\u001b[43mcache_dir\u001b[49m\u001b[43m,\u001b[49m\u001b[43m \u001b[49m\u001b[43mextra_source\u001b[49m\u001b[43m,\u001b[49m\u001b[43m \u001b[49m\u001b[43mbackend\u001b[49m\u001b[43m,\u001b[49m\n\u001b[1;32m    500\u001b[0m \u001b[43m        \u001b[49m\u001b[43menable_cooperative_groups\u001b[49m\u001b[43m,\u001b[49m\u001b[43m \u001b[49m\u001b[43mname_expressions\u001b[49m\u001b[43m,\u001b[49m\u001b[43m \u001b[49m\u001b[43mlog_stream\u001b[49m\u001b[43m,\u001b[49m\n\u001b[1;32m    501\u001b[0m \u001b[43m        \u001b[49m\u001b[43mcache_in_memory\u001b[49m\u001b[43m,\u001b[49m\u001b[43m \u001b[49m\u001b[43mjitify\u001b[49m\u001b[43m)\u001b[49m\n",
      "File \u001b[0;32m~/anaconda3/envs/seojin/lib/python3.9/site-packages/cupy/cuda/compiler.py:577\u001b[0m, in \u001b[0;36m_compile_with_cache_cuda\u001b[0;34m(source, options, arch, cache_dir, extra_source, backend, enable_cooperative_groups, name_expressions, log_stream, cache_in_memory, jitify)\u001b[0m\n\u001b[1;32m    575\u001b[0m \u001b[38;5;28;01mif\u001b[39;00m backend \u001b[38;5;241m==\u001b[39m \u001b[38;5;124m'\u001b[39m\u001b[38;5;124mnvrtc\u001b[39m\u001b[38;5;124m'\u001b[39m:\n\u001b[1;32m    576\u001b[0m     cu_name \u001b[38;5;241m=\u001b[39m \u001b[38;5;124m'\u001b[39m\u001b[38;5;124m'\u001b[39m \u001b[38;5;28;01mif\u001b[39;00m cache_in_memory \u001b[38;5;28;01melse\u001b[39;00m name \u001b[38;5;241m+\u001b[39m \u001b[38;5;124m'\u001b[39m\u001b[38;5;124m.cu\u001b[39m\u001b[38;5;124m'\u001b[39m\n\u001b[0;32m--> 577\u001b[0m     ptx, mapping \u001b[38;5;241m=\u001b[39m \u001b[43mcompile_using_nvrtc\u001b[49m\u001b[43m(\u001b[49m\n\u001b[1;32m    578\u001b[0m \u001b[43m        \u001b[49m\u001b[43msource\u001b[49m\u001b[43m,\u001b[49m\u001b[43m \u001b[49m\u001b[43moptions\u001b[49m\u001b[43m,\u001b[49m\u001b[43m \u001b[49m\u001b[43march\u001b[49m\u001b[43m,\u001b[49m\u001b[43m \u001b[49m\u001b[43mcu_name\u001b[49m\u001b[43m,\u001b[49m\u001b[43m \u001b[49m\u001b[43mname_expressions\u001b[49m\u001b[43m,\u001b[49m\n\u001b[1;32m    579\u001b[0m \u001b[43m        \u001b[49m\u001b[43mlog_stream\u001b[49m\u001b[43m,\u001b[49m\u001b[43m \u001b[49m\u001b[43mcache_in_memory\u001b[49m\u001b[43m,\u001b[49m\u001b[43m \u001b[49m\u001b[43mjitify\u001b[49m\u001b[43m)\u001b[49m\n\u001b[1;32m    580\u001b[0m     \u001b[38;5;28;01mif\u001b[39;00m _is_cudadevrt_needed(options):\n\u001b[1;32m    581\u001b[0m         \u001b[38;5;66;03m# for separate compilation\u001b[39;00m\n\u001b[1;32m    582\u001b[0m         ls \u001b[38;5;241m=\u001b[39m function\u001b[38;5;241m.\u001b[39mLinkState()\n",
      "File \u001b[0;32m~/anaconda3/envs/seojin/lib/python3.9/site-packages/cupy/cuda/compiler.py:333\u001b[0m, in \u001b[0;36mcompile_using_nvrtc\u001b[0;34m(source, options, arch, filename, name_expressions, log_stream, cache_in_memory, jitify)\u001b[0m\n\u001b[1;32m    330\u001b[0m         \u001b[38;5;28;01mwith\u001b[39;00m \u001b[38;5;28mopen\u001b[39m(cu_path, \u001b[38;5;124m'\u001b[39m\u001b[38;5;124mw\u001b[39m\u001b[38;5;124m'\u001b[39m) \u001b[38;5;28;01mas\u001b[39;00m cu_file:\n\u001b[1;32m    331\u001b[0m             cu_file\u001b[38;5;241m.\u001b[39mwrite(source)\n\u001b[0;32m--> 333\u001b[0m         \u001b[38;5;28;01mreturn\u001b[39;00m \u001b[43m_compile\u001b[49m\u001b[43m(\u001b[49m\u001b[43msource\u001b[49m\u001b[43m,\u001b[49m\u001b[43m \u001b[49m\u001b[43moptions\u001b[49m\u001b[43m,\u001b[49m\u001b[43m \u001b[49m\u001b[43mcu_path\u001b[49m\u001b[43m,\u001b[49m\n\u001b[1;32m    334\u001b[0m \u001b[43m                        \u001b[49m\u001b[43mname_expressions\u001b[49m\u001b[43m,\u001b[49m\u001b[43m \u001b[49m\u001b[43mlog_stream\u001b[49m\u001b[43m,\u001b[49m\u001b[43m \u001b[49m\u001b[43mjitify\u001b[49m\u001b[43m)\u001b[49m\n\u001b[1;32m    335\u001b[0m \u001b[38;5;28;01melse\u001b[39;00m:\n\u001b[1;32m    336\u001b[0m     cu_path \u001b[38;5;241m=\u001b[39m \u001b[38;5;124m'\u001b[39m\u001b[38;5;124m'\u001b[39m \u001b[38;5;28;01mif\u001b[39;00m \u001b[38;5;129;01mnot\u001b[39;00m jitify \u001b[38;5;28;01melse\u001b[39;00m filename\n",
      "File \u001b[0;32m~/anaconda3/envs/seojin/lib/python3.9/site-packages/cupy/cuda/compiler.py:317\u001b[0m, in \u001b[0;36mcompile_using_nvrtc.<locals>._compile\u001b[0;34m(source, options, cu_path, name_expressions, log_stream, jitify)\u001b[0m\n\u001b[1;32m    314\u001b[0m prog \u001b[38;5;241m=\u001b[39m _NVRTCProgram(source, cu_path, headers, include_names,\n\u001b[1;32m    315\u001b[0m                      name_expressions\u001b[38;5;241m=\u001b[39mname_expressions, method\u001b[38;5;241m=\u001b[39mmethod)\n\u001b[1;32m    316\u001b[0m \u001b[38;5;28;01mtry\u001b[39;00m:\n\u001b[0;32m--> 317\u001b[0m     compiled_obj, mapping \u001b[38;5;241m=\u001b[39m \u001b[43mprog\u001b[49m\u001b[38;5;241;43m.\u001b[39;49m\u001b[43mcompile\u001b[49m\u001b[43m(\u001b[49m\u001b[43moptions\u001b[49m\u001b[43m,\u001b[49m\u001b[43m \u001b[49m\u001b[43mlog_stream\u001b[49m\u001b[43m)\u001b[49m\n\u001b[1;32m    318\u001b[0m \u001b[38;5;28;01mexcept\u001b[39;00m CompileException \u001b[38;5;28;01mas\u001b[39;00m e:\n\u001b[1;32m    319\u001b[0m     dump \u001b[38;5;241m=\u001b[39m _get_bool_env_variable(\n\u001b[1;32m    320\u001b[0m         \u001b[38;5;124m'\u001b[39m\u001b[38;5;124mCUPY_DUMP_CUDA_SOURCE_ON_ERROR\u001b[39m\u001b[38;5;124m'\u001b[39m, \u001b[38;5;28;01mFalse\u001b[39;00m)\n",
      "File \u001b[0;32m~/anaconda3/envs/seojin/lib/python3.9/site-packages/cupy/cuda/compiler.py:711\u001b[0m, in \u001b[0;36m_NVRTCProgram.compile\u001b[0;34m(self, options, log_stream)\u001b[0m\n\u001b[1;32m    709\u001b[0m \u001b[38;5;28;01mexcept\u001b[39;00m nvrtc\u001b[38;5;241m.\u001b[39mNVRTCError:\n\u001b[1;32m    710\u001b[0m     log \u001b[38;5;241m=\u001b[39m nvrtc\u001b[38;5;241m.\u001b[39mgetProgramLog(\u001b[38;5;28mself\u001b[39m\u001b[38;5;241m.\u001b[39mptr)\n\u001b[0;32m--> 711\u001b[0m     \u001b[38;5;28;01mraise\u001b[39;00m CompileException(log, \u001b[38;5;28mself\u001b[39m\u001b[38;5;241m.\u001b[39msrc, \u001b[38;5;28mself\u001b[39m\u001b[38;5;241m.\u001b[39mname, options,\n\u001b[1;32m    712\u001b[0m                            \u001b[38;5;124m'\u001b[39m\u001b[38;5;124mnvrtc\u001b[39m\u001b[38;5;124m'\u001b[39m \u001b[38;5;28;01mif\u001b[39;00m \u001b[38;5;129;01mnot\u001b[39;00m runtime\u001b[38;5;241m.\u001b[39mis_hip \u001b[38;5;28;01melse\u001b[39;00m \u001b[38;5;124m'\u001b[39m\u001b[38;5;124mhiprtc\u001b[39m\u001b[38;5;124m'\u001b[39m)\n",
      "\u001b[0;31mCompileException\u001b[0m: /home/seojin/anaconda3/envs/seojin/lib/python3.9/site-packages/cupy/_core/include/cupy/_cuda/cuda-12.6/cuda_fp16.h(129): catastrophic error: cannot open source file \"vector_types.h\"\n  #include \"vector_types.h\"\n                           ^\n\n1 catastrophic error detected in the compilation of \"/tmp/tmp92eayyc0/ab185c163e1456bb5835456ceeea1443a2117917.cubin.cu\".\nCompilation terminated.\n"
     ]
    }
   ],
   "source": [
    "# Check error - include \"vector_types.h\"\n",
    "cp.array(cp.zeros((1,)))"
   ]
  },
  {
   "cell_type": "code",
   "execution_count": null,
   "id": "e0e667f0-c747-4397-a264-857e938fe826",
   "metadata": {},
   "outputs": [],
   "source": []
  }
 ],
 "metadata": {
  "kernelspec": {
   "display_name": "seojin",
   "language": "python",
   "name": "seojin"
  },
  "language_info": {
   "codemirror_mode": {
    "name": "ipython",
    "version": 3
   },
   "file_extension": ".py",
   "mimetype": "text/x-python",
   "name": "python",
   "nbconvert_exporter": "python",
   "pygments_lexer": "ipython3",
   "version": "3.9.6"
  }
 },
 "nbformat": 4,
 "nbformat_minor": 5
}
